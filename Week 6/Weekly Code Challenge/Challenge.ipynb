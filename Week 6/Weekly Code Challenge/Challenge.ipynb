{
 "cells": [
  {
   "cell_type": "markdown",
   "id": "a17b1f67",
   "metadata": {},
   "source": [
    "# Python Libraries Challenge\n",
    "\n",
    "Use popular Python libraries to perform useful tasks including numerical operations, data manipulation, API interaction, and data visualization.\n"
   ]
  },
  {
   "cell_type": "markdown",
   "id": "5547a318",
   "metadata": {},
   "source": [
    "# Import the Required Libraries"
   ]
  },
  {
   "cell_type": "markdown",
   "id": "2721d1cf",
   "metadata": {},
   "source": [
    "# Import required libraries\n",
    "import numpy as np\n",
    "import pandas as pd\n",
    "import matplotlib.pyplot as plt\n",
    "import requests\n"
   ]
  },
  {
   "cell_type": "markdown",
   "id": "9bcd9d41",
   "metadata": {},
   "source": [
    "## Import required libraries"
   ]
  },
  {
   "cell_type": "code",
   "execution_count": 1,
   "id": "bfc68277",
   "metadata": {},
   "outputs": [],
   "source": [
    "\n",
    "import numpy as np\n",
    "import pandas as pd\n",
    "import matplotlib.pyplot as plt\n",
    "import requests\n"
   ]
  },
  {
   "cell_type": "markdown",
   "id": "85062bb4",
   "metadata": {},
   "source": [
    "## Task 1: NumPy Array and Mean\n",
    "\n",
    "Create a NumPy array of numbers from 1 to 10 and calculate the mean."
   ]
  },
  {
   "cell_type": "code",
   "execution_count": 2,
   "id": "23d0e91f",
   "metadata": {},
   "outputs": [
    {
     "name": "stdout",
     "output_type": "stream",
     "text": [
      "Array: [ 1  2  3  4  5  6  7  8  9 10]\n",
      "Mean: 5.5\n"
     ]
    }
   ],
   "source": [
    "numbers = np.array([1, 2, 3, 4, 5, 6, 7, 8, 9, 10])\n",
    "mean_value = np.mean(numbers)\n",
    "\n",
    "print(\"Array:\", numbers)\n",
    "print(\"Mean:\", mean_value)"
   ]
  },
  {
   "cell_type": "markdown",
   "id": "5dea0d36",
   "metadata": {},
   "source": [
    "## Task 2: Pandas DataFrame and Summary Statistics\n",
    "\n",
    "Load a small dataset into a pandas DataFrame and display summary statistics."
   ]
  },
  {
   "cell_type": "code",
   "execution_count": 3,
   "id": "ad08f3a1",
   "metadata": {},
   "outputs": [
    {
     "name": "stdout",
     "output_type": "stream",
     "text": [
      "Summary Statistics:\n",
      "           Score\n",
      "count   3.000000\n",
      "mean   84.333333\n",
      "std     6.027714\n",
      "min    78.000000\n",
      "25%    81.500000\n",
      "50%    85.000000\n",
      "75%    87.500000\n",
      "max    90.000000\n"
     ]
    }
   ],
   "source": [
    "# Sample data\n",
    "data = {'Name': ['Alice', 'Bob', 'Charlie'], \n",
    "        'Score': [85, 90, 78]}\n",
    "\n",
    "# Create a DataFRame from the sample data\n",
    "df = pd.DataFrame(data)\n",
    "\n",
    "# Get the summary statistiscs of the DataFrame\n",
    "print(\"Summary Statistics:\")\n",
    "print(df.describe())"
   ]
  },
  {
   "cell_type": "markdown",
   "id": "0877a767",
   "metadata": {},
   "source": [
    "## Task 3: Fetch Data from Public API\n",
    "\n",
    "Use the `requests` library to fetch data from OpenWeatherMap and print the temperature in Celsius.  \n",
    "⚠️ Replace `'your_api_key'` with a valid API key."
   ]
  },
  {
   "cell_type": "code",
   "execution_count": null,
   "id": "0c26a91a",
   "metadata": {},
   "outputs": [
    {
     "name": "stdout",
     "output_type": "stream",
     "text": [
      "API request failed\n"
     ]
    }
   ],
   "source": [
    "url = \"https://api.openweathermap.org/data/2.5/weather?q=London&appid=your_api_key\"\n",
    "response = requests.get(url)\n",
    "\n",
    "if response.status_code == 200:\n",
    "    weather_data = response.json()\n",
    "    temp = weather_data['main']['temp'] - 273.15  # Convert Kelvin to Celsius\n",
    "    print(\"London Temperature:\", round(temp, 1), \"°C\")\n",
    "else:\n",
    "    print(\"API request failed\")"
   ]
  },
  {
   "cell_type": "markdown",
   "id": "615a4efa",
   "metadata": {},
   "source": [
    "## Task 4: Plot a Simple Line Graph\n",
    "\n",
    "Plot a line graph using `matplotlib` to visualize sales over a few days."
   ]
  },
  {
   "cell_type": "code",
   "execution_count": 5,
   "id": "83a889f0",
   "metadata": {},
   "outputs": [
    {
     "data": {
      "image/png": "[encoded data removed]",
      "text/plain": [
       "<Figure size 640x480 with 1 Axes>"
      ]
     },
     "metadata": {},
     "output_type": "display_data"
    }
   ],
   "source": [
    "days = [1, 2, 3, 4, 5]\n",
    "sales = [100, 120, 130, 140, 150]\n",
    "\n",
    "plt.plot(days, sales, marker='o', color='blue')\n",
    "plt.title('Sales Over Days')\n",
    "plt.xlabel('Day')\n",
    "plt.ylabel('Sales ($)')\n",
    "plt.grid(True)\n",
    "plt.show();"
   ]
  },
  {
   "cell_type": "code",
   "execution_count": null,
   "id": "6acf12fe",
   "metadata": {},
   "outputs": [],
   "source": []
  }
 ],
 "metadata": {
  "kernelspec": {
   "display_name": "base",
   "language": "python",
   "name": "python3"
  },
  "language_info": {
   "codemirror_mode": {
    "name": "ipython",
    "version": 3
   },
   "file_extension": ".py",
   "mimetype": "text/x-python",
   "name": "python",
   "nbconvert_exporter": "python",
   "pygments_lexer": "ipython3",
   "version": "3.12.7"
  }
 },
 "nbformat": 4,
 "nbformat_minor": 5
}
