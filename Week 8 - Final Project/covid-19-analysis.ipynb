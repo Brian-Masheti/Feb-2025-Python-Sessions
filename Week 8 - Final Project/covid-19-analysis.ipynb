{
 "cells": [
  {
   "cell_type": "markdown",
   "metadata": {},
   "source": [
    "# COVID-19 Global Data Tracker Project"
   ]
  },
  {
   "cell_type": "code",
   "execution_count": 1,
   "metadata": {},
   "outputs": [],
   "source": [
    "# Import required libraries\n",
    "import pandas as pd\n",
    "import numpy as np\n",
    "import matplotlib.pyplot as plt\n",
    "import seaborn as sns\n",
    "import warnings\n",
    "import requests\n",
    "from io import BytesIO\n",
    "import time\n",
    "from tqdm import tqdm\n",
    "\n",
    "import plotly.express as px\n",
    "import ipywidgets as widgets\n",
    "from ipywidgets import SelectMultiple, Dropdown\n",
    "from IPython.display import display, clear_output\n",
    "\n",
    "# Filter and ignore warnings\n",
    "warnings.filterwarnings('ignore')"
   ]
  },
  {
   "cell_type": "code",
   "execution_count": 2,
   "metadata": {},
   "outputs": [],
   "source": [
    "# Function to download data with retries\n",
    "def download_data(url, max_retries=3):\n",
    "    for attempt in range(max_retries):\n",
    "        try:\n",
    "            print(f\"Download attempt {attempt + 1} of {max_retries}\")\n",
    "            # Get the file size first\n",
    "            response = requests.head(url)\n",
    "            total_size = int(response.headers.get('content-length', 0))\n",
    "            \n",
    "            # Download with progress bar\n",
    "            response = requests.get(url, stream=True, timeout=30)\n",
    "            response.raise_for_status()\n",
    "            \n",
    "            # Use BytesIO for binary data\n",
    "            content = BytesIO()\n",
    "            \n",
    "            # Download with progress bar\n",
    "            with tqdm(total=total_size, unit='iB', unit_scale=True, desc=\"Downloading\") as pbar:\n",
    "                for chunk in response.iter_content(chunk_size=1024*1024):  # 1MB chunks\n",
    "                    if chunk:\n",
    "                        content.write(chunk)\n",
    "                        pbar.update(len(chunk))\n",
    "            \n",
    "            content.seek(0)\n",
    "            return content\n",
    "            \n",
    "        except Exception as e:\n",
    "            print(f\"Attempt {attempt + 1} failed: {str(e)}\")\n",
    "            if attempt < max_retries - 1:\n",
    "                print(\"Retrying in 5 seconds...\")\n",
    "                time.sleep(5)\n",
    "            else:\n",
    "                raise Exception(\"Failed to download data after multiple attempts\")"
   ]
  },
  {
   "cell_type": "markdown",
   "metadata": {},
   "source": [
    "Since the data is very big, it'll take some time to download and finally load. Kindly, be patient 😁."
   ]
  },
  {
   "cell_type": "code",
   "execution_count": 3,
   "metadata": {},
   "outputs": [
    {
     "name": "stdout",
     "output_type": "stream",
     "text": [
      "Starting COVID-19 data download...\n",
      "Download attempt 1 of 3\n"
     ]
    },
    {
     "name": "stderr",
     "output_type": "stream",
     "text": [
      "Downloading: 103MiB [36:56, 46.4kiB/s]                 \n"
     ]
    },
    {
     "name": "stdout",
     "output_type": "stream",
     "text": [
      "\n",
      "Processing data...\n"
     ]
    }
   ],
   "source": [
    "# Load the global COVID-19 data\n",
    "url = 'https://covid.ourworldindata.org/data/owid-covid-data.csv'\n",
    "print(\"Starting COVID-19 data download...\")\n",
    "\n",
    "# Download the data\n",
    "content = download_data(url)\n",
    "\n",
    "# Process the downloaded data\n",
    "print(\"\\nProcessing data...\")\n",
    "data = pd.read_csv(content)"
   ]
  },
  {
   "cell_type": "code",
   "execution_count": 4,
   "metadata": {},
   "outputs": [
    {
     "name": "stdout",
     "output_type": "stream",
     "text": [
      "\n",
      "Data preview:\n",
      "\n",
      "Saving data to local file...\n",
      "Data saved successfully!\n"
     ]
    }
   ],
   "source": [
    "# Preview the first 5 rows\n",
    "print(\"\\nData preview:\")\n",
    "data.head()\n",
    "\n",
    "# Save the data locally\n",
    "print(\"\\nSaving data to local file...\")\n",
    "data.to_csv('owid-covid-data.csv', index=False)\n",
    "print(\"Data saved successfully!\")"
   ]
  },
  {
   "cell_type": "code",
   "execution_count": 5,
   "metadata": {},
   "outputs": [
    {
     "name": "stdout",
     "output_type": "stream",
     "text": [
      "\n",
      "Dataset information:\n",
      "Number of rows: 429435\n",
      "Number of columns: 67\n"
     ]
    }
   ],
   "source": [
    "# Display basic information about the dataset\n",
    "print(\"\\nDataset information:\")\n",
    "print(f\"Number of rows: {len(data)}\")\n",
    "print(f\"Number of columns: {len(data.columns)}\")"
   ]
  },
  {
   "cell_type": "code",
   "execution_count": 6,
   "metadata": {},
   "outputs": [
    {
     "data": {
      "application/vnd.microsoft.datawrangler.viewer.v0+json": {
       "columns": [
        {
         "name": "index",
         "rawType": "int64",
         "type": "integer"
        },
        {
         "name": "iso_code",
         "rawType": "object",
         "type": "string"
        },
        {
         "name": "continent",
         "rawType": "object",
         "type": "string"
        },
        {
         "name": "location",
         "rawType": "object",
         "type": "string"
        },
        {
         "name": "date",
         "rawType": "object",
         "type": "string"
        },
        {
         "name": "total_cases",
         "rawType": "float64",
         "type": "float"
        },
        {
         "name": "new_cases",
         "rawType": "float64",
         "type": "float"
        },
        {
         "name": "new_cases_smoothed",
         "rawType": "float64",
         "type": "float"
        },
        {
         "name": "total_deaths",
         "rawType": "float64",
         "type": "float"
        },
        {
         "name": "new_deaths",
         "rawType": "float64",
         "type": "float"
        },
        {
         "name": "new_deaths_smoothed",
         "rawType": "float64",
         "type": "float"
        },
        {
         "name": "total_cases_per_million",
         "rawType": "float64",
         "type": "float"
        },
        {
         "name": "new_cases_per_million",
         "rawType": "float64",
         "type": "float"
        },
        {
         "name": "new_cases_smoothed_per_million",
         "rawType": "float64",
         "type": "float"
        },
        {
         "name": "total_deaths_per_million",
         "rawType": "float64",
         "type": "float"
        },
        {
         "name": "new_deaths_per_million",
         "rawType": "float64",
         "type": "float"
        },
        {
         "name": "new_deaths_smoothed_per_million",
         "rawType": "float64",
         "type": "float"
        },
        {
         "name": "reproduction_rate",
         "rawType": "float64",
         "type": "float"
        },
        {
         "name": "icu_patients",
         "rawType": "float64",
         "type": "float"
        },
        {
         "name": "icu_patients_per_million",
         "rawType": "float64",
         "type": "float"
        },
        {
         "name": "hosp_patients",
         "rawType": "float64",
         "type": "float"
        },
        {
         "name": "hosp_patients_per_million",
         "rawType": "float64",
         "type": "float"
        },
        {
         "name": "weekly_icu_admissions",
         "rawType": "float64",
         "type": "float"
        },
        {
         "name": "weekly_icu_admissions_per_million",
         "rawType": "float64",
         "type": "float"
        },
        {
         "name": "weekly_hosp_admissions",
         "rawType": "float64",
         "type": "float"
        },
        {
         "name": "weekly_hosp_admissions_per_million",
         "rawType": "float64",
         "type": "float"
        },
        {
         "name": "total_tests",
         "rawType": "float64",
         "type": "float"
        },
        {
         "name": "new_tests",
         "rawType": "float64",
         "type": "float"
        },
        {
         "name": "total_tests_per_thousand",
         "rawType": "float64",
         "type": "float"
        },
        {
         "name": "new_tests_per_thousand",
         "rawType": "float64",
         "type": "float"
        },
        {
         "name": "new_tests_smoothed",
         "rawType": "float64",
         "type": "float"
        },
        {
         "name": "new_tests_smoothed_per_thousand",
         "rawType": "float64",
         "type": "float"
        },
        {
         "name": "positive_rate",
         "rawType": "float64",
         "type": "float"
        },
        {
         "name": "tests_per_case",
         "rawType": "float64",
         "type": "float"
        },
        {
         "name": "tests_units",
         "rawType": "object",
         "type": "unknown"
        },
        {
         "name": "total_vaccinations",
         "rawType": "float64",
         "type": "float"
        },
        {
         "name": "people_vaccinated",
         "rawType": "float64",
         "type": "float"
        },
        {
         "name": "people_fully_vaccinated",
         "rawType": "float64",
         "type": "float"
        },
        {
         "name": "total_boosters",
         "rawType": "float64",
         "type": "float"
        },
        {
         "name": "new_vaccinations",
         "rawType": "float64",
         "type": "float"
        },
        {
         "name": "new_vaccinations_smoothed",
         "rawType": "float64",
         "type": "float"
        },
        {
         "name": "total_vaccinations_per_hundred",
         "rawType": "float64",
         "type": "float"
        },
        {
         "name": "people_vaccinated_per_hundred",
         "rawType": "float64",
         "type": "float"
        },
        {
         "name": "people_fully_vaccinated_per_hundred",
         "rawType": "float64",
         "type": "float"
        },
        {
         "name": "total_boosters_per_hundred",
         "rawType": "float64",
         "type": "float"
        },
        {
         "name": "new_vaccinations_smoothed_per_million",
         "rawType": "float64",
         "type": "float"
        },
        {
         "name": "new_people_vaccinated_smoothed",
         "rawType": "float64",
         "type": "float"
        },
        {
         "name": "new_people_vaccinated_smoothed_per_hundred",
         "rawType": "float64",
         "type": "float"
        },
        {
         "name": "stringency_index",
         "rawType": "float64",
         "type": "float"
        },
        {
         "name": "population_density",
         "rawType": "float64",
         "type": "float"
        },
        {
         "name": "median_age",
         "rawType": "float64",
         "type": "float"
        },
        {
         "name": "aged_65_older",
         "rawType": "float64",
         "type": "float"
        },
        {
         "name": "aged_70_older",
         "rawType": "float64",
         "type": "float"
        },
        {
         "name": "gdp_per_capita",
         "rawType": "float64",
         "type": "float"
        },
        {
         "name": "extreme_poverty",
         "rawType": "float64",
         "type": "float"
        },
        {
         "name": "cardiovasc_death_rate",
         "rawType": "float64",
         "type": "float"
        },
        {
         "name": "diabetes_prevalence",
         "rawType": "float64",
         "type": "float"
        },
        {
         "name": "female_smokers",
         "rawType": "float64",
         "type": "float"
        },
        {
         "name": "male_smokers",
         "rawType": "float64",
         "type": "float"
        },
        {
         "name": "handwashing_facilities",
         "rawType": "float64",
         "type": "float"
        },
        {
         "name": "hospital_beds_per_thousand",
         "rawType": "float64",
         "type": "float"
        },
        {
         "name": "life_expectancy",
         "rawType": "float64",
         "type": "float"
        },
        {
         "name": "human_development_index",
         "rawType": "float64",
         "type": "float"
        },
        {
         "name": "population",
         "rawType": "int64",
         "type": "integer"
        },
        {
         "name": "excess_mortality_cumulative_absolute",
         "rawType": "float64",
         "type": "float"
        },
        {
         "name": "excess_mortality_cumulative",
         "rawType": "float64",
         "type": "float"
        },
        {
         "name": "excess_mortality",
         "rawType": "float64",
         "type": "float"
        },
        {
         "name": "excess_mortality_cumulative_per_million",
         "rawType": "float64",
         "type": "float"
        }
       ],
       "conversionMethod": "pd.DataFrame",
       "ref": "3b70b9cf-1c91-4950-8f0e-c1d7180b8f1e",
       "rows": [
        [
         "0",
         "AFG",
         "Asia",
         "Afghanistan",
         "2020-01-05",
         "0.0",
         "0.0",
         null,
         "0.0",
         "0.0",
         null,
         "0.0",
         "0.0",
         null,
         "0.0",
         "0.0",
         null,
         null,
         null,
         null,
         null,
         null,
         null,
         null,
         null,
         null,
         null,
         null,
         null,
         null,
         null,
         null,
         null,
         null,
         null,
         null,
         null,
         null,
         null,
         null,
         null,
         null,
         null,
         null,
         null,
         null,
         null,
         null,
         "0.0",
         "54.422",
         "18.6",
         "2.581",
         "1.337",
         "1803.987",
         null,
         "597.029",
         "9.59",
         null,
         null,
         "37.746",
         "0.5",
         "64.83",
         "0.511",
         "41128772",
         null,
         null,
         null,
         null
        ],
        [
         "1",
         "AFG",
         "Asia",
         "Afghanistan",
         "2020-01-06",
         "0.0",
         "0.0",
         null,
         "0.0",
         "0.0",
         null,
         "0.0",
         "0.0",
         null,
         "0.0",
         "0.0",
         null,
         null,
         null,
         null,
         null,
         null,
         null,
         null,
         null,
         null,
         null,
         null,
         null,
         null,
         null,
         null,
         null,
         null,
         null,
         null,
         null,
         null,
         null,
         null,
         null,
         null,
         null,
         null,
         null,
         null,
         null,
         null,
         "0.0",
         "54.422",
         "18.6",
         "2.581",
         "1.337",
         "1803.987",
         null,
         "597.029",
         "9.59",
         null,
         null,
         "37.746",
         "0.5",
         "64.83",
         "0.511",
         "41128772",
         null,
         null,
         null,
         null
        ],
        [
         "2",
         "AFG",
         "Asia",
         "Afghanistan",
         "2020-01-07",
         "0.0",
         "0.0",
         null,
         "0.0",
         "0.0",
         null,
         "0.0",
         "0.0",
         null,
         "0.0",
         "0.0",
         null,
         null,
         null,
         null,
         null,
         null,
         null,
         null,
         null,
         null,
         null,
         null,
         null,
         null,
         null,
         null,
         null,
         null,
         null,
         null,
         null,
         null,
         null,
         null,
         null,
         null,
         null,
         null,
         null,
         null,
         null,
         null,
         "0.0",
         "54.422",
         "18.6",
         "2.581",
         "1.337",
         "1803.987",
         null,
         "597.029",
         "9.59",
         null,
         null,
         "37.746",
         "0.5",
         "64.83",
         "0.511",
         "41128772",
         null,
         null,
         null,
         null
        ],
        [
         "3",
         "AFG",
         "Asia",
         "Afghanistan",
         "2020-01-08",
         "0.0",
         "0.0",
         null,
         "0.0",
         "0.0",
         null,
         "0.0",
         "0.0",
         null,
         "0.0",
         "0.0",
         null,
         null,
         null,
         null,
         null,
         null,
         null,
         null,
         null,
         null,
         null,
         null,
         null,
         null,
         null,
         null,
         null,
         null,
         null,
         null,
         null,
         null,
         null,
         null,
         null,
         null,
         null,
         null,
         null,
         null,
         null,
         null,
         "0.0",
         "54.422",
         "18.6",
         "2.581",
         "1.337",
         "1803.987",
         null,
         "597.029",
         "9.59",
         null,
         null,
         "37.746",
         "0.5",
         "64.83",
         "0.511",
         "41128772",
         null,
         null,
         null,
         null
        ],
        [
         "4",
         "AFG",
         "Asia",
         "Afghanistan",
         "2020-01-09",
         "0.0",
         "0.0",
         null,
         "0.0",
         "0.0",
         null,
         "0.0",
         "0.0",
         null,
         "0.0",
         "0.0",
         null,
         null,
         null,
         null,
         null,
         null,
         null,
         null,
         null,
         null,
         null,
         null,
         null,
         null,
         null,
         null,
         null,
         null,
         null,
         null,
         null,
         null,
         null,
         null,
         null,
         null,
         null,
         null,
         null,
         null,
         null,
         null,
         "0.0",
         "54.422",
         "18.6",
         "2.581",
         "1.337",
         "1803.987",
         null,
         "597.029",
         "9.59",
         null,
         null,
         "37.746",
         "0.5",
         "64.83",
         "0.511",
         "41128772",
         null,
         null,
         null,
         null
        ]
       ],
       "shape": {
        "columns": 67,
        "rows": 5
       }
      },
      "text/html": [
       "<div>\n",
       "<style scoped>\n",
       "    .dataframe tbody tr th:only-of-type {\n",
       "        vertical-align: middle;\n",
       "    }\n",
       "\n",
       "    .dataframe tbody tr th {\n",
       "        vertical-align: top;\n",
       "    }\n",
       "\n",
       "    .dataframe thead th {\n",
       "        text-align: right;\n",
       "    }\n",
       "</style>\n",
       "<table border=\"1\" class=\"dataframe\">\n",
       "  <thead>\n",
       "    <tr style=\"text-align: right;\">\n",
       "      <th></th>\n",
       "      <th>iso_code</th>\n",
       "      <th>continent</th>\n",
       "      <th>location</th>\n",
       "      <th>date</th>\n",
       "      <th>total_cases</th>\n",
       "      <th>new_cases</th>\n",
       "      <th>new_cases_smoothed</th>\n",
       "      <th>total_deaths</th>\n",
       "      <th>new_deaths</th>\n",
       "      <th>new_deaths_smoothed</th>\n",
       "      <th>...</th>\n",
       "      <th>male_smokers</th>\n",
       "      <th>handwashing_facilities</th>\n",
       "      <th>hospital_beds_per_thousand</th>\n",
       "      <th>life_expectancy</th>\n",
       "      <th>human_development_index</th>\n",
       "      <th>population</th>\n",
       "      <th>excess_mortality_cumulative_absolute</th>\n",
       "      <th>excess_mortality_cumulative</th>\n",
       "      <th>excess_mortality</th>\n",
       "      <th>excess_mortality_cumulative_per_million</th>\n",
       "    </tr>\n",
       "  </thead>\n",
       "  <tbody>\n",
       "    <tr>\n",
       "      <th>0</th>\n",
       "      <td>AFG</td>\n",
       "      <td>Asia</td>\n",
       "      <td>Afghanistan</td>\n",
       "      <td>2020-01-05</td>\n",
       "      <td>0.0</td>\n",
       "      <td>0.0</td>\n",
       "      <td>NaN</td>\n",
       "      <td>0.0</td>\n",
       "      <td>0.0</td>\n",
       "      <td>NaN</td>\n",
       "      <td>...</td>\n",
       "      <td>NaN</td>\n",
       "      <td>37.746</td>\n",
       "      <td>0.5</td>\n",
       "      <td>64.83</td>\n",
       "      <td>0.511</td>\n",
       "      <td>41128772</td>\n",
       "      <td>NaN</td>\n",
       "      <td>NaN</td>\n",
       "      <td>NaN</td>\n",
       "      <td>NaN</td>\n",
       "    </tr>\n",
       "    <tr>\n",
       "      <th>1</th>\n",
       "      <td>AFG</td>\n",
       "      <td>Asia</td>\n",
       "      <td>Afghanistan</td>\n",
       "      <td>2020-01-06</td>\n",
       "      <td>0.0</td>\n",
       "      <td>0.0</td>\n",
       "      <td>NaN</td>\n",
       "      <td>0.0</td>\n",
       "      <td>0.0</td>\n",
       "      <td>NaN</td>\n",
       "      <td>...</td>\n",
       "      <td>NaN</td>\n",
       "      <td>37.746</td>\n",
       "      <td>0.5</td>\n",
       "      <td>64.83</td>\n",
       "      <td>0.511</td>\n",
       "      <td>41128772</td>\n",
       "      <td>NaN</td>\n",
       "      <td>NaN</td>\n",
       "      <td>NaN</td>\n",
       "      <td>NaN</td>\n",
       "    </tr>\n",
       "    <tr>\n",
       "      <th>2</th>\n",
       "      <td>AFG</td>\n",
       "      <td>Asia</td>\n",
       "      <td>Afghanistan</td>\n",
       "      <td>2020-01-07</td>\n",
       "      <td>0.0</td>\n",
       "      <td>0.0</td>\n",
       "      <td>NaN</td>\n",
       "      <td>0.0</td>\n",
       "      <td>0.0</td>\n",
       "      <td>NaN</td>\n",
       "      <td>...</td>\n",
       "      <td>NaN</td>\n",
       "      <td>37.746</td>\n",
       "      <td>0.5</td>\n",
       "      <td>64.83</td>\n",
       "      <td>0.511</td>\n",
       "      <td>41128772</td>\n",
       "      <td>NaN</td>\n",
       "      <td>NaN</td>\n",
       "      <td>NaN</td>\n",
       "      <td>NaN</td>\n",
       "    </tr>\n",
       "    <tr>\n",
       "      <th>3</th>\n",
       "      <td>AFG</td>\n",
       "      <td>Asia</td>\n",
       "      <td>Afghanistan</td>\n",
       "      <td>2020-01-08</td>\n",
       "      <td>0.0</td>\n",
       "      <td>0.0</td>\n",
       "      <td>NaN</td>\n",
       "      <td>0.0</td>\n",
       "      <td>0.0</td>\n",
       "      <td>NaN</td>\n",
       "      <td>...</td>\n",
       "      <td>NaN</td>\n",
       "      <td>37.746</td>\n",
       "      <td>0.5</td>\n",
       "      <td>64.83</td>\n",
       "      <td>0.511</td>\n",
       "      <td>41128772</td>\n",
       "      <td>NaN</td>\n",
       "      <td>NaN</td>\n",
       "      <td>NaN</td>\n",
       "      <td>NaN</td>\n",
       "    </tr>\n",
       "    <tr>\n",
       "      <th>4</th>\n",
       "      <td>AFG</td>\n",
       "      <td>Asia</td>\n",
       "      <td>Afghanistan</td>\n",
       "      <td>2020-01-09</td>\n",
       "      <td>0.0</td>\n",
       "      <td>0.0</td>\n",
       "      <td>NaN</td>\n",
       "      <td>0.0</td>\n",
       "      <td>0.0</td>\n",
       "      <td>NaN</td>\n",
       "      <td>...</td>\n",
       "      <td>NaN</td>\n",
       "      <td>37.746</td>\n",
       "      <td>0.5</td>\n",
       "      <td>64.83</td>\n",
       "      <td>0.511</td>\n",
       "      <td>41128772</td>\n",
       "      <td>NaN</td>\n",
       "      <td>NaN</td>\n",
       "      <td>NaN</td>\n",
       "      <td>NaN</td>\n",
       "    </tr>\n",
       "  </tbody>\n",
       "</table>\n",
       "<p>5 rows × 67 columns</p>\n",
       "</div>"
      ],
      "text/plain": [
       "  iso_code continent     location        date  total_cases  new_cases  \\\n",
       "0      AFG      Asia  Afghanistan  2020-01-05          0.0        0.0   \n",
       "1      AFG      Asia  Afghanistan  2020-01-06          0.0        0.0   \n",
       "2      AFG      Asia  Afghanistan  2020-01-07          0.0        0.0   \n",
       "3      AFG      Asia  Afghanistan  2020-01-08          0.0        0.0   \n",
       "4      AFG      Asia  Afghanistan  2020-01-09          0.0        0.0   \n",
       "\n",
       "   new_cases_smoothed  total_deaths  new_deaths  new_deaths_smoothed  ...  \\\n",
       "0                 NaN           0.0         0.0                  NaN  ...   \n",
       "1                 NaN           0.0         0.0                  NaN  ...   \n",
       "2                 NaN           0.0         0.0                  NaN  ...   \n",
       "3                 NaN           0.0         0.0                  NaN  ...   \n",
       "4                 NaN           0.0         0.0                  NaN  ...   \n",
       "\n",
       "   male_smokers  handwashing_facilities  hospital_beds_per_thousand  \\\n",
       "0           NaN                  37.746                         0.5   \n",
       "1           NaN                  37.746                         0.5   \n",
       "2           NaN                  37.746                         0.5   \n",
       "3           NaN                  37.746                         0.5   \n",
       "4           NaN                  37.746                         0.5   \n",
       "\n",
       "   life_expectancy  human_development_index  population  \\\n",
       "0            64.83                    0.511    41128772   \n",
       "1            64.83                    0.511    41128772   \n",
       "2            64.83                    0.511    41128772   \n",
       "3            64.83                    0.511    41128772   \n",
       "4            64.83                    0.511    41128772   \n",
       "\n",
       "   excess_mortality_cumulative_absolute  excess_mortality_cumulative  \\\n",
       "0                                   NaN                          NaN   \n",
       "1                                   NaN                          NaN   \n",
       "2                                   NaN                          NaN   \n",
       "3                                   NaN                          NaN   \n",
       "4                                   NaN                          NaN   \n",
       "\n",
       "   excess_mortality  excess_mortality_cumulative_per_million  \n",
       "0               NaN                                      NaN  \n",
       "1               NaN                                      NaN  \n",
       "2               NaN                                      NaN  \n",
       "3               NaN                                      NaN  \n",
       "4               NaN                                      NaN  \n",
       "\n",
       "[5 rows x 67 columns]"
      ]
     },
     "execution_count": 6,
     "metadata": {},
     "output_type": "execute_result"
    }
   ],
   "source": [
    "# Load the downloaded data\n",
    "df = pd.read_csv('owid-covid-data.csv')\n",
    "df.head()"
   ]
  },
  {
   "cell_type": "code",
   "execution_count": 7,
   "metadata": {},
   "outputs": [
    {
     "data": {
      "text/plain": [
       "Index(['iso_code', 'continent', 'location', 'date', 'total_cases', 'new_cases',\n",
       "       'new_cases_smoothed', 'total_deaths', 'new_deaths',\n",
       "       'new_deaths_smoothed', 'total_cases_per_million',\n",
       "       'new_cases_per_million', 'new_cases_smoothed_per_million',\n",
       "       'total_deaths_per_million', 'new_deaths_per_million',\n",
       "       'new_deaths_smoothed_per_million', 'reproduction_rate', 'icu_patients',\n",
       "       'icu_patients_per_million', 'hosp_patients',\n",
       "       'hosp_patients_per_million', 'weekly_icu_admissions',\n",
       "       'weekly_icu_admissions_per_million', 'weekly_hosp_admissions',\n",
       "       'weekly_hosp_admissions_per_million', 'total_tests', 'new_tests',\n",
       "       'total_tests_per_thousand', 'new_tests_per_thousand',\n",
       "       'new_tests_smoothed', 'new_tests_smoothed_per_thousand',\n",
       "       'positive_rate', 'tests_per_case', 'tests_units', 'total_vaccinations',\n",
       "       'people_vaccinated', 'people_fully_vaccinated', 'total_boosters',\n",
       "       'new_vaccinations', 'new_vaccinations_smoothed',\n",
       "       'total_vaccinations_per_hundred', 'people_vaccinated_per_hundred',\n",
       "       'people_fully_vaccinated_per_hundred', 'total_boosters_per_hundred',\n",
       "       'new_vaccinations_smoothed_per_million',\n",
       "       'new_people_vaccinated_smoothed',\n",
       "       'new_people_vaccinated_smoothed_per_hundred', 'stringency_index',\n",
       "       'population_density', 'median_age', 'aged_65_older', 'aged_70_older',\n",
       "       'gdp_per_capita', 'extreme_poverty', 'cardiovasc_death_rate',\n",
       "       'diabetes_prevalence', 'female_smokers', 'male_smokers',\n",
       "       'handwashing_facilities', 'hospital_beds_per_thousand',\n",
       "       'life_expectancy', 'human_development_index', 'population',\n",
       "       'excess_mortality_cumulative_absolute', 'excess_mortality_cumulative',\n",
       "       'excess_mortality', 'excess_mortality_cumulative_per_million'],\n",
       "      dtype='object')"
      ]
     },
     "execution_count": 7,
     "metadata": {},
     "output_type": "execute_result"
    }
   ],
   "source": [
    "# Return the column names of the DataFrame\n",
    "df.columns"
   ]
  },
  {
   "cell_type": "code",
   "execution_count": 8,
   "metadata": {},
   "outputs": [
    {
     "name": "stdout",
     "output_type": "stream",
     "text": [
      "Selected columns preview:\n"
     ]
    },
    {
     "data": {
      "application/vnd.microsoft.datawrangler.viewer.v0+json": {
       "columns": [
        {
         "name": "index",
         "rawType": "int64",
         "type": "integer"
        },
        {
         "name": "date",
         "rawType": "object",
         "type": "string"
        },
        {
         "name": "location",
         "rawType": "object",
         "type": "string"
        },
        {
         "name": "iso_code",
         "rawType": "object",
         "type": "string"
        },
        {
         "name": "total_cases",
         "rawType": "float64",
         "type": "float"
        },
        {
         "name": "total_deaths",
         "rawType": "float64",
         "type": "float"
        },
        {
         "name": "new_cases",
         "rawType": "float64",
         "type": "float"
        },
        {
         "name": "new_deaths",
         "rawType": "float64",
         "type": "float"
        },
        {
         "name": "total_vaccinations",
         "rawType": "float64",
         "type": "float"
        }
       ],
       "conversionMethod": "pd.DataFrame",
       "ref": "4e97c13a-4f82-4480-a18c-00c1a3c2cc05",
       "rows": [
        [
         "105930",
         "2021-03-26",
         "Egypt",
         "EGY",
         "194771.0",
         "11557.0",
         "0.0",
         "0.0",
         null
        ],
        [
         "275449",
         "2024-06-04",
         "Nigeria",
         "NGA",
         "267188.0",
         "3155.0",
         "0.0",
         "0.0",
         null
        ],
        [
         "196660",
         "2023-09-04",
         "Kenya",
         "KEN",
         "343986.0",
         "5689.0",
         "0.0",
         "0.0",
         null
        ],
        [
         "133125",
         "2022-12-24",
         "French Guiana",
         "GUF",
         "97526.0",
         "412.0",
         "0.0",
         "0.0",
         null
        ],
        [
         "76",
         "2020-03-21",
         "Afghanistan",
         "AFG",
         "7.0",
         "0.0",
         "0.0",
         "0.0",
         null
        ],
        [
         "297770",
         "2020-04-15",
         "Papua New Guinea",
         "PNG",
         "2.0",
         "0.0",
         "0.0",
         "0.0",
         null
        ],
        [
         "313838",
         "2023-01-12",
         "Reunion",
         "REU",
         "490612.0",
         "911.0",
         "0.0",
         "0.0",
         null
        ],
        [
         "176703",
         "2024-01-16",
         "Indonesia",
         "IDN",
         "6825538.0",
         "162015.0",
         "0.0",
         "0.0",
         null
        ],
        [
         "306966",
         "2022-07-20",
         "Poland",
         "POL",
         "6032031.0",
         "116468.0",
         "0.0",
         "0.0",
         "54658469.0"
        ],
        [
         "71629",
         "2023-08-04",
         "Chad",
         "TCD",
         "7698.0",
         "194.0",
         "0.0",
         "0.0",
         null
        ],
        [
         "188757",
         "2020-05-15",
         "Japan",
         "JPN",
         "15747.0",
         "613.0",
         "0.0",
         "0.0",
         null
        ],
        [
         "360857",
         "2024-06-11",
         "South Korea",
         "KOR",
         "34571873.0",
         "35934.0",
         "0.0",
         "0.0",
         null
        ],
        [
         "45517",
         "2020-11-05",
         "Bonaire Sint Eustatius and Saba",
         "BES",
         "153.0",
         "3.0",
         "0.0",
         "0.0",
         null
        ],
        [
         "408013",
         "2024-04-12",
         "Upper-middle-income countries",
         "OWID_UMC",
         null,
         null,
         null,
         null,
         "5449977995.0"
        ],
        [
         "261285",
         "2022-05-01",
         "Namibia",
         "NAM",
         "158811.0",
         "4025.0",
         "453.0",
         "0.0",
         null
        ],
        [
         "422019",
         "2022-08-27",
         "Wallis and Futuna",
         "WLF",
         "761.0",
         "7.0",
         "0.0",
         "0.0",
         null
        ],
        [
         "306686",
         "2021-10-13",
         "Poland",
         "POL",
         "2923787.0",
         "75883.0",
         "0.0",
         "0.0",
         "38051598.0"
        ],
        [
         "173011",
         "2023-02-14",
         "Iceland",
         "ISL",
         "208114.0",
         "186.0",
         "0.0",
         "0.0",
         null
        ],
        [
         "89598",
         "2022-05-16",
         "Curacao",
         "CUW",
         "42674.0",
         "275.0",
         "0.0",
         "0.0",
         "252104.0"
        ],
        [
         "173678",
         "2020-05-13",
         "India",
         "IND",
         "62939.0",
         "2109.0",
         "0.0",
         "0.0",
         null
        ]
       ],
       "shape": {
        "columns": 8,
        "rows": 20
       }
      },
      "text/html": [
       "<div>\n",
       "<style scoped>\n",
       "    .dataframe tbody tr th:only-of-type {\n",
       "        vertical-align: middle;\n",
       "    }\n",
       "\n",
       "    .dataframe tbody tr th {\n",
       "        vertical-align: top;\n",
       "    }\n",
       "\n",
       "    .dataframe thead th {\n",
       "        text-align: right;\n",
       "    }\n",
       "</style>\n",
       "<table border=\"1\" class=\"dataframe\">\n",
       "  <thead>\n",
       "    <tr style=\"text-align: right;\">\n",
       "      <th></th>\n",
       "      <th>date</th>\n",
       "      <th>location</th>\n",
       "      <th>iso_code</th>\n",
       "      <th>total_cases</th>\n",
       "      <th>total_deaths</th>\n",
       "      <th>new_cases</th>\n",
       "      <th>new_deaths</th>\n",
       "      <th>total_vaccinations</th>\n",
       "    </tr>\n",
       "  </thead>\n",
       "  <tbody>\n",
       "    <tr>\n",
       "      <th>105930</th>\n",
       "      <td>2021-03-26</td>\n",
       "      <td>Egypt</td>\n",
       "      <td>EGY</td>\n",
       "      <td>194771.0</td>\n",
       "      <td>11557.0</td>\n",
       "      <td>0.0</td>\n",
       "      <td>0.0</td>\n",
       "      <td>NaN</td>\n",
       "    </tr>\n",
       "    <tr>\n",
       "      <th>275449</th>\n",
       "      <td>2024-06-04</td>\n",
       "      <td>Nigeria</td>\n",
       "      <td>NGA</td>\n",
       "      <td>267188.0</td>\n",
       "      <td>3155.0</td>\n",
       "      <td>0.0</td>\n",
       "      <td>0.0</td>\n",
       "      <td>NaN</td>\n",
       "    </tr>\n",
       "    <tr>\n",
       "      <th>196660</th>\n",
       "      <td>2023-09-04</td>\n",
       "      <td>Kenya</td>\n",
       "      <td>KEN</td>\n",
       "      <td>343986.0</td>\n",
       "      <td>5689.0</td>\n",
       "      <td>0.0</td>\n",
       "      <td>0.0</td>\n",
       "      <td>NaN</td>\n",
       "    </tr>\n",
       "    <tr>\n",
       "      <th>133125</th>\n",
       "      <td>2022-12-24</td>\n",
       "      <td>French Guiana</td>\n",
       "      <td>GUF</td>\n",
       "      <td>97526.0</td>\n",
       "      <td>412.0</td>\n",
       "      <td>0.0</td>\n",
       "      <td>0.0</td>\n",
       "      <td>NaN</td>\n",
       "    </tr>\n",
       "    <tr>\n",
       "      <th>76</th>\n",
       "      <td>2020-03-21</td>\n",
       "      <td>Afghanistan</td>\n",
       "      <td>AFG</td>\n",
       "      <td>7.0</td>\n",
       "      <td>0.0</td>\n",
       "      <td>0.0</td>\n",
       "      <td>0.0</td>\n",
       "      <td>NaN</td>\n",
       "    </tr>\n",
       "    <tr>\n",
       "      <th>297770</th>\n",
       "      <td>2020-04-15</td>\n",
       "      <td>Papua New Guinea</td>\n",
       "      <td>PNG</td>\n",
       "      <td>2.0</td>\n",
       "      <td>0.0</td>\n",
       "      <td>0.0</td>\n",
       "      <td>0.0</td>\n",
       "      <td>NaN</td>\n",
       "    </tr>\n",
       "    <tr>\n",
       "      <th>313838</th>\n",
       "      <td>2023-01-12</td>\n",
       "      <td>Reunion</td>\n",
       "      <td>REU</td>\n",
       "      <td>490612.0</td>\n",
       "      <td>911.0</td>\n",
       "      <td>0.0</td>\n",
       "      <td>0.0</td>\n",
       "      <td>NaN</td>\n",
       "    </tr>\n",
       "    <tr>\n",
       "      <th>176703</th>\n",
       "      <td>2024-01-16</td>\n",
       "      <td>Indonesia</td>\n",
       "      <td>IDN</td>\n",
       "      <td>6825538.0</td>\n",
       "      <td>162015.0</td>\n",
       "      <td>0.0</td>\n",
       "      <td>0.0</td>\n",
       "      <td>NaN</td>\n",
       "    </tr>\n",
       "    <tr>\n",
       "      <th>306966</th>\n",
       "      <td>2022-07-20</td>\n",
       "      <td>Poland</td>\n",
       "      <td>POL</td>\n",
       "      <td>6032031.0</td>\n",
       "      <td>116468.0</td>\n",
       "      <td>0.0</td>\n",
       "      <td>0.0</td>\n",
       "      <td>5.465847e+07</td>\n",
       "    </tr>\n",
       "    <tr>\n",
       "      <th>71629</th>\n",
       "      <td>2023-08-04</td>\n",
       "      <td>Chad</td>\n",
       "      <td>TCD</td>\n",
       "      <td>7698.0</td>\n",
       "      <td>194.0</td>\n",
       "      <td>0.0</td>\n",
       "      <td>0.0</td>\n",
       "      <td>NaN</td>\n",
       "    </tr>\n",
       "    <tr>\n",
       "      <th>188757</th>\n",
       "      <td>2020-05-15</td>\n",
       "      <td>Japan</td>\n",
       "      <td>JPN</td>\n",
       "      <td>15747.0</td>\n",
       "      <td>613.0</td>\n",
       "      <td>0.0</td>\n",
       "      <td>0.0</td>\n",
       "      <td>NaN</td>\n",
       "    </tr>\n",
       "    <tr>\n",
       "      <th>360857</th>\n",
       "      <td>2024-06-11</td>\n",
       "      <td>South Korea</td>\n",
       "      <td>KOR</td>\n",
       "      <td>34571873.0</td>\n",
       "      <td>35934.0</td>\n",
       "      <td>0.0</td>\n",
       "      <td>0.0</td>\n",
       "      <td>NaN</td>\n",
       "    </tr>\n",
       "    <tr>\n",
       "      <th>45517</th>\n",
       "      <td>2020-11-05</td>\n",
       "      <td>Bonaire Sint Eustatius and Saba</td>\n",
       "      <td>BES</td>\n",
       "      <td>153.0</td>\n",
       "      <td>3.0</td>\n",
       "      <td>0.0</td>\n",
       "      <td>0.0</td>\n",
       "      <td>NaN</td>\n",
       "    </tr>\n",
       "    <tr>\n",
       "      <th>408013</th>\n",
       "      <td>2024-04-12</td>\n",
       "      <td>Upper-middle-income countries</td>\n",
       "      <td>OWID_UMC</td>\n",
       "      <td>NaN</td>\n",
       "      <td>NaN</td>\n",
       "      <td>NaN</td>\n",
       "      <td>NaN</td>\n",
       "      <td>5.449978e+09</td>\n",
       "    </tr>\n",
       "    <tr>\n",
       "      <th>261285</th>\n",
       "      <td>2022-05-01</td>\n",
       "      <td>Namibia</td>\n",
       "      <td>NAM</td>\n",
       "      <td>158811.0</td>\n",
       "      <td>4025.0</td>\n",
       "      <td>453.0</td>\n",
       "      <td>0.0</td>\n",
       "      <td>NaN</td>\n",
       "    </tr>\n",
       "    <tr>\n",
       "      <th>422019</th>\n",
       "      <td>2022-08-27</td>\n",
       "      <td>Wallis and Futuna</td>\n",
       "      <td>WLF</td>\n",
       "      <td>761.0</td>\n",
       "      <td>7.0</td>\n",
       "      <td>0.0</td>\n",
       "      <td>0.0</td>\n",
       "      <td>NaN</td>\n",
       "    </tr>\n",
       "    <tr>\n",
       "      <th>306686</th>\n",
       "      <td>2021-10-13</td>\n",
       "      <td>Poland</td>\n",
       "      <td>POL</td>\n",
       "      <td>2923787.0</td>\n",
       "      <td>75883.0</td>\n",
       "      <td>0.0</td>\n",
       "      <td>0.0</td>\n",
       "      <td>3.805160e+07</td>\n",
       "    </tr>\n",
       "    <tr>\n",
       "      <th>173011</th>\n",
       "      <td>2023-02-14</td>\n",
       "      <td>Iceland</td>\n",
       "      <td>ISL</td>\n",
       "      <td>208114.0</td>\n",
       "      <td>186.0</td>\n",
       "      <td>0.0</td>\n",
       "      <td>0.0</td>\n",
       "      <td>NaN</td>\n",
       "    </tr>\n",
       "    <tr>\n",
       "      <th>89598</th>\n",
       "      <td>2022-05-16</td>\n",
       "      <td>Curacao</td>\n",
       "      <td>CUW</td>\n",
       "      <td>42674.0</td>\n",
       "      <td>275.0</td>\n",
       "      <td>0.0</td>\n",
       "      <td>0.0</td>\n",
       "      <td>2.521040e+05</td>\n",
       "    </tr>\n",
       "    <tr>\n",
       "      <th>173678</th>\n",
       "      <td>2020-05-13</td>\n",
       "      <td>India</td>\n",
       "      <td>IND</td>\n",
       "      <td>62939.0</td>\n",
       "      <td>2109.0</td>\n",
       "      <td>0.0</td>\n",
       "      <td>0.0</td>\n",
       "      <td>NaN</td>\n",
       "    </tr>\n",
       "  </tbody>\n",
       "</table>\n",
       "</div>"
      ],
      "text/plain": [
       "              date                         location  iso_code  total_cases  \\\n",
       "105930  2021-03-26                            Egypt       EGY     194771.0   \n",
       "275449  2024-06-04                          Nigeria       NGA     267188.0   \n",
       "196660  2023-09-04                            Kenya       KEN     343986.0   \n",
       "133125  2022-12-24                    French Guiana       GUF      97526.0   \n",
       "76      2020-03-21                      Afghanistan       AFG          7.0   \n",
       "297770  2020-04-15                 Papua New Guinea       PNG          2.0   \n",
       "313838  2023-01-12                          Reunion       REU     490612.0   \n",
       "176703  2024-01-16                        Indonesia       IDN    6825538.0   \n",
       "306966  2022-07-20                           Poland       POL    6032031.0   \n",
       "71629   2023-08-04                             Chad       TCD       7698.0   \n",
       "188757  2020-05-15                            Japan       JPN      15747.0   \n",
       "360857  2024-06-11                      South Korea       KOR   34571873.0   \n",
       "45517   2020-11-05  Bonaire Sint Eustatius and Saba       BES        153.0   \n",
       "408013  2024-04-12    Upper-middle-income countries  OWID_UMC          NaN   \n",
       "261285  2022-05-01                          Namibia       NAM     158811.0   \n",
       "422019  2022-08-27                Wallis and Futuna       WLF        761.0   \n",
       "306686  2021-10-13                           Poland       POL    2923787.0   \n",
       "173011  2023-02-14                          Iceland       ISL     208114.0   \n",
       "89598   2022-05-16                          Curacao       CUW      42674.0   \n",
       "173678  2020-05-13                            India       IND      62939.0   \n",
       "\n",
       "        total_deaths  new_cases  new_deaths  total_vaccinations  \n",
       "105930       11557.0        0.0         0.0                 NaN  \n",
       "275449        3155.0        0.0         0.0                 NaN  \n",
       "196660        5689.0        0.0         0.0                 NaN  \n",
       "133125         412.0        0.0         0.0                 NaN  \n",
       "76               0.0        0.0         0.0                 NaN  \n",
       "297770           0.0        0.0         0.0                 NaN  \n",
       "313838         911.0        0.0         0.0                 NaN  \n",
       "176703      162015.0        0.0         0.0                 NaN  \n",
       "306966      116468.0        0.0         0.0        5.465847e+07  \n",
       "71629          194.0        0.0         0.0                 NaN  \n",
       "188757         613.0        0.0         0.0                 NaN  \n",
       "360857       35934.0        0.0         0.0                 NaN  \n",
       "45517            3.0        0.0         0.0                 NaN  \n",
       "408013           NaN        NaN         NaN        5.449978e+09  \n",
       "261285        4025.0      453.0         0.0                 NaN  \n",
       "422019           7.0        0.0         0.0                 NaN  \n",
       "306686       75883.0        0.0         0.0        3.805160e+07  \n",
       "173011         186.0        0.0         0.0                 NaN  \n",
       "89598          275.0        0.0         0.0        2.521040e+05  \n",
       "173678        2109.0        0.0         0.0                 NaN  "
      ]
     },
     "execution_count": 8,
     "metadata": {},
     "output_type": "execute_result"
    }
   ],
   "source": [
    "# Select key columns for analysis, including 'iso_code'\n",
    "key_columns = ['date', 'location', 'iso_code', 'total_cases', 'total_deaths', 'new_cases', 'new_deaths', 'total_vaccinations']\n",
    "\n",
    "# Create a new dataframe with selected columns\n",
    "df_selected = df[key_columns].copy()\n",
    "\n",
    "# Display the first few rows of the selected data\n",
    "print(\"Selected columns preview:\")\n",
    "df_selected.sample(20)"
   ]
  },
  {
   "cell_type": "code",
   "execution_count": 9,
   "metadata": {},
   "outputs": [
    {
     "name": "stdout",
     "output_type": "stream",
     "text": [
      "\n",
      "Selected columns information:\n",
      "Number of rows: 429435\n",
      "Number of columns: 8\n",
      "\n",
      "Missing values in each column:\n",
      "date                       0\n",
      "location                   0\n",
      "iso_code                   0\n",
      "total_cases            17631\n",
      "total_deaths           17631\n",
      "new_cases              19276\n",
      "new_deaths             18827\n",
      "total_vaccinations    344018\n",
      "dtype: int64\n"
     ]
    }
   ],
   "source": [
    "# Display information about the selected columns\n",
    "print(\"\\nSelected columns information:\")\n",
    "print(f\"Number of rows: {len(df_selected)}\")\n",
    "print(f\"Number of columns: {len(df_selected.columns)}\")\n",
    "print(\"\\nMissing values in each column:\")\n",
    "print(df_selected.isna().sum())"
   ]
  },
  {
   "cell_type": "markdown",
   "metadata": {},
   "source": [
    "## Data Cleaning\n",
    "\n",
    "### Handling Missing Values\n",
    "\n",
    "In the COVID-19 dataset, many `NaN` values appear in the columns for total cases, total deaths, new cases, and new deaths.  \n",
    "Upon inspection, these `NaN` values occur primarily at the beginning of each country's timeline, before any cases or deaths were reported. \n",
    "\n",
    "**This means that a `NaN` in these columns does not indicate missing or erroneous data, but rather that there were zero cases or deaths reported at that time.**\n",
    "\n",
    "**Therefore, we will replace all `NaN` values in our selected columns with `0` to accurately reflect the absence of reported cases or deaths.**"
   ]
  },
  {
   "cell_type": "code",
   "execution_count": 10,
   "metadata": {},
   "outputs": [
    {
     "name": "stdout",
     "output_type": "stream",
     "text": [
      "Missing values after replacing NaNs with 0:\n",
      "date                  0\n",
      "location              0\n",
      "iso_code              0\n",
      "total_cases           0\n",
      "total_deaths          0\n",
      "new_cases             0\n",
      "new_deaths            0\n",
      "total_vaccinations    0\n",
      "dtype: int64\n"
     ]
    }
   ],
   "source": [
    "# Replace all NaN values in the selected data with 0\n",
    "df_selected = df_selected.fillna(0)\n",
    "\n",
    "# Check to confirm there are no more NaNs\n",
    "print(\"Missing values after replacing NaNs with 0:\")\n",
    "print(df_selected.isna().sum())"
   ]
  },
  {
   "cell_type": "markdown",
   "metadata": {},
   "source": [
    "### Removing Non-Country Entries\n",
    "\n",
    "Based on the Our World in Data COVID-19 dataset documentation, we need to remove several types of non-country entries to focus our analysis on country-level data:\n",
    "\n",
    "- **World**: Global totals and aggregates\n",
    "- **Income Groups**: High income, Upper middle income, Lower middle income, Low income\n",
    "- **Continents**: Europe, Asia, North America, South America, Africa, Oceania\n",
    "- **Economic Unions**: European Union\n",
    "- **Other Aggregations**: International\n",
    "\n",
    "These entries represent aggregated data rather than individual country data, and removing them will ensure our analysis focuses on country-specific COVID-19 trends."
   ]
  },
  {
   "cell_type": "code",
   "execution_count": 11,
   "metadata": {},
   "outputs": [
    {
     "name": "stdout",
     "output_type": "stream",
     "text": [
      "Dataset information after removing non-country entries:\n",
      "Number of rows: 402910\n",
      "Number of columns: 8\n"
     ]
    }
   ],
   "source": [
    "# List of non-country entries to remove\n",
    "non_country_entries = [\n",
    "    'World', 'High income', 'Upper middle income', 'Lower middle income', 'Low income',\n",
    "    'Europe', 'Asia', 'North America', 'South America', 'Africa', 'Oceania',\n",
    "    'European Union (27)', 'International', 'Upper-middle-income countries',\n",
    "    'Lower-middle-income countries', 'Low-income countries', 'High-income countries'\n",
    "]\n",
    "\n",
    "# Filter out non-country entries\n",
    "df_selected = df_selected[~df_selected['location'].isin(non_country_entries)]\n",
    "\n",
    "# Display the updated dataset information\n",
    "print(\"Dataset information after removing non-country entries:\")\n",
    "print(f\"Number of rows: {len(df_selected)}\")\n",
    "print(f\"Number of columns: {len(df_selected.columns)}\")\n"
   ]
  },
  {
   "cell_type": "code",
   "execution_count": 12,
   "metadata": {},
   "outputs": [
    {
     "data": {
      "application/vnd.microsoft.datawrangler.viewer.v0+json": {
       "columns": [
        {
         "name": "index",
         "rawType": "int64",
         "type": "integer"
        },
        {
         "name": "date",
         "rawType": "object",
         "type": "string"
        },
        {
         "name": "location",
         "rawType": "object",
         "type": "string"
        },
        {
         "name": "iso_code",
         "rawType": "object",
         "type": "string"
        },
        {
         "name": "total_cases",
         "rawType": "float64",
         "type": "float"
        },
        {
         "name": "total_deaths",
         "rawType": "float64",
         "type": "float"
        },
        {
         "name": "new_cases",
         "rawType": "float64",
         "type": "float"
        },
        {
         "name": "new_deaths",
         "rawType": "float64",
         "type": "float"
        },
        {
         "name": "total_vaccinations",
         "rawType": "float64",
         "type": "float"
        }
       ],
       "conversionMethod": "pd.DataFrame",
       "ref": "b535344c-c3d0-45a5-8c5f-5825e547f5bb",
       "rows": [
        [
         "0",
         "2020-01-05",
         "Afghanistan",
         "AFG",
         "0.0",
         "0.0",
         "0.0",
         "0.0",
         "0.0"
        ],
        [
         "1",
         "2020-01-06",
         "Afghanistan",
         "AFG",
         "0.0",
         "0.0",
         "0.0",
         "0.0",
         "0.0"
        ],
        [
         "2",
         "2020-01-07",
         "Afghanistan",
         "AFG",
         "0.0",
         "0.0",
         "0.0",
         "0.0",
         "0.0"
        ],
        [
         "3",
         "2020-01-08",
         "Afghanistan",
         "AFG",
         "0.0",
         "0.0",
         "0.0",
         "0.0",
         "0.0"
        ],
        [
         "4",
         "2020-01-09",
         "Afghanistan",
         "AFG",
         "0.0",
         "0.0",
         "0.0",
         "0.0",
         "0.0"
        ]
       ],
       "shape": {
        "columns": 8,
        "rows": 5
       }
      },
      "text/html": [
       "<div>\n",
       "<style scoped>\n",
       "    .dataframe tbody tr th:only-of-type {\n",
       "        vertical-align: middle;\n",
       "    }\n",
       "\n",
       "    .dataframe tbody tr th {\n",
       "        vertical-align: top;\n",
       "    }\n",
       "\n",
       "    .dataframe thead th {\n",
       "        text-align: right;\n",
       "    }\n",
       "</style>\n",
       "<table border=\"1\" class=\"dataframe\">\n",
       "  <thead>\n",
       "    <tr style=\"text-align: right;\">\n",
       "      <th></th>\n",
       "      <th>date</th>\n",
       "      <th>location</th>\n",
       "      <th>iso_code</th>\n",
       "      <th>total_cases</th>\n",
       "      <th>total_deaths</th>\n",
       "      <th>new_cases</th>\n",
       "      <th>new_deaths</th>\n",
       "      <th>total_vaccinations</th>\n",
       "    </tr>\n",
       "  </thead>\n",
       "  <tbody>\n",
       "    <tr>\n",
       "      <th>0</th>\n",
       "      <td>2020-01-05</td>\n",
       "      <td>Afghanistan</td>\n",
       "      <td>AFG</td>\n",
       "      <td>0.0</td>\n",
       "      <td>0.0</td>\n",
       "      <td>0.0</td>\n",
       "      <td>0.0</td>\n",
       "      <td>0.0</td>\n",
       "    </tr>\n",
       "    <tr>\n",
       "      <th>1</th>\n",
       "      <td>2020-01-06</td>\n",
       "      <td>Afghanistan</td>\n",
       "      <td>AFG</td>\n",
       "      <td>0.0</td>\n",
       "      <td>0.0</td>\n",
       "      <td>0.0</td>\n",
       "      <td>0.0</td>\n",
       "      <td>0.0</td>\n",
       "    </tr>\n",
       "    <tr>\n",
       "      <th>2</th>\n",
       "      <td>2020-01-07</td>\n",
       "      <td>Afghanistan</td>\n",
       "      <td>AFG</td>\n",
       "      <td>0.0</td>\n",
       "      <td>0.0</td>\n",
       "      <td>0.0</td>\n",
       "      <td>0.0</td>\n",
       "      <td>0.0</td>\n",
       "    </tr>\n",
       "    <tr>\n",
       "      <th>3</th>\n",
       "      <td>2020-01-08</td>\n",
       "      <td>Afghanistan</td>\n",
       "      <td>AFG</td>\n",
       "      <td>0.0</td>\n",
       "      <td>0.0</td>\n",
       "      <td>0.0</td>\n",
       "      <td>0.0</td>\n",
       "      <td>0.0</td>\n",
       "    </tr>\n",
       "    <tr>\n",
       "      <th>4</th>\n",
       "      <td>2020-01-09</td>\n",
       "      <td>Afghanistan</td>\n",
       "      <td>AFG</td>\n",
       "      <td>0.0</td>\n",
       "      <td>0.0</td>\n",
       "      <td>0.0</td>\n",
       "      <td>0.0</td>\n",
       "      <td>0.0</td>\n",
       "    </tr>\n",
       "  </tbody>\n",
       "</table>\n",
       "</div>"
      ],
      "text/plain": [
       "         date     location iso_code  total_cases  total_deaths  new_cases  \\\n",
       "0  2020-01-05  Afghanistan      AFG          0.0           0.0        0.0   \n",
       "1  2020-01-06  Afghanistan      AFG          0.0           0.0        0.0   \n",
       "2  2020-01-07  Afghanistan      AFG          0.0           0.0        0.0   \n",
       "3  2020-01-08  Afghanistan      AFG          0.0           0.0        0.0   \n",
       "4  2020-01-09  Afghanistan      AFG          0.0           0.0        0.0   \n",
       "\n",
       "   new_deaths  total_vaccinations  \n",
       "0         0.0                 0.0  \n",
       "1         0.0                 0.0  \n",
       "2         0.0                 0.0  \n",
       "3         0.0                 0.0  \n",
       "4         0.0                 0.0  "
      ]
     },
     "execution_count": 12,
     "metadata": {},
     "output_type": "execute_result"
    }
   ],
   "source": [
    "# Reset the index column to start from 0\n",
    "df_selected = df_selected.reset_index(drop=True)\n",
    "df_selected.head()"
   ]
  },
  {
   "cell_type": "code",
   "execution_count": 13,
   "metadata": {},
   "outputs": [
    {
     "name": "stdout",
     "output_type": "stream",
     "text": [
      "\n",
      "Data types of the columns:\n",
      "<class 'pandas.core.frame.DataFrame'>\n",
      "RangeIndex: 402910 entries, 0 to 402909\n",
      "Data columns (total 8 columns):\n",
      " #   Column              Non-Null Count   Dtype  \n",
      "---  ------              --------------   -----  \n",
      " 0   date                402910 non-null  object \n",
      " 1   location            402910 non-null  object \n",
      " 2   iso_code            402910 non-null  object \n",
      " 3   total_cases         402910 non-null  float64\n",
      " 4   total_deaths        402910 non-null  float64\n",
      " 5   new_cases           402910 non-null  float64\n",
      " 6   new_deaths          402910 non-null  float64\n",
      " 7   total_vaccinations  402910 non-null  float64\n",
      "dtypes: float64(5), object(3)\n",
      "memory usage: 24.6+ MB\n"
     ]
    }
   ],
   "source": [
    "# Check the data types of the columns\n",
    "print(\"\\nData types of the columns:\")\n",
    "df_selected.info()"
   ]
  },
  {
   "cell_type": "code",
   "execution_count": 14,
   "metadata": {},
   "outputs": [
    {
     "name": "stdout",
     "output_type": "stream",
     "text": [
      "date                  datetime64[ns]\n",
      "location                      object\n",
      "iso_code                      object\n",
      "total_cases                  float64\n",
      "total_deaths                 float64\n",
      "new_cases                    float64\n",
      "new_deaths                   float64\n",
      "total_vaccinations           float64\n",
      "dtype: object\n"
     ]
    }
   ],
   "source": [
    "# Convert the 'date' column to datetime format\n",
    "df_selected['date'] = pd.to_datetime(df_selected['date'])\n",
    "\n",
    "# Check the result\n",
    "print(df_selected.dtypes)"
   ]
  },
  {
   "cell_type": "code",
   "execution_count": 15,
   "metadata": {},
   "outputs": [
    {
     "name": "stdout",
     "output_type": "stream",
     "text": [
      "Number of duplicate rows: 0\n",
      "No duplicate rows found.\n"
     ]
    }
   ],
   "source": [
    "# Check for duplicate rows\n",
    "duplicates = df_selected.duplicated()\n",
    "print(f\"Number of duplicate rows: {duplicates.sum()}\")\n",
    "\n",
    "# Remove duplicates if any exist\n",
    "if duplicates.sum() > 0:\n",
    "    df_selected = df_selected.drop_duplicates()\n",
    "    print(\"Duplicate rows removed.\")\n",
    "else:\n",
    "    print(\"No duplicate rows found.\")"
   ]
  },
  {
   "cell_type": "code",
   "execution_count": 16,
   "metadata": {},
   "outputs": [
    {
     "name": "stdout",
     "output_type": "stream",
     "text": [
      "date                  datetime64[ns]\n",
      "location                      object\n",
      "iso_code                      object\n",
      "total_cases                    Int64\n",
      "total_deaths                   Int64\n",
      "new_cases                      Int64\n",
      "new_deaths                     Int64\n",
      "total_vaccinations             Int64\n",
      "dtype: object\n"
     ]
    }
   ],
   "source": [
    "# Convert numeric columns to integer type because cases, deaths, and vaccinations must be whole numbers.\n",
    "# This also ensures data consistency and saves memory.\n",
    "numeric_cols = ['total_cases', 'total_deaths', 'new_cases', 'new_deaths', 'total_vaccinations']\n",
    "df_selected[numeric_cols] = df_selected[numeric_cols].astype('Int64')  # 'Int64' allows for missing values\n",
    "\n",
    "# Check the result\n",
    "print(df_selected.dtypes)"
   ]
  },
  {
   "cell_type": "code",
   "execution_count": 17,
   "metadata": {},
   "outputs": [
    {
     "data": {
      "application/vnd.microsoft.datawrangler.viewer.v0+json": {
       "columns": [
        {
         "name": "index",
         "rawType": "int64",
         "type": "integer"
        },
        {
         "name": "date",
         "rawType": "datetime64[ns]",
         "type": "datetime"
        },
        {
         "name": "location",
         "rawType": "object",
         "type": "string"
        },
        {
         "name": "iso_code",
         "rawType": "object",
         "type": "string"
        },
        {
         "name": "total_cases",
         "rawType": "Int64",
         "type": "integer"
        },
        {
         "name": "total_deaths",
         "rawType": "Int64",
         "type": "integer"
        },
        {
         "name": "new_cases",
         "rawType": "Int64",
         "type": "integer"
        },
        {
         "name": "new_deaths",
         "rawType": "Int64",
         "type": "integer"
        },
        {
         "name": "total_vaccinations",
         "rawType": "Int64",
         "type": "integer"
        }
       ],
       "conversionMethod": "pd.DataFrame",
       "ref": "0790bd3c-9039-468f-bdba-a397bc24a22b",
       "rows": [
        [
         "0",
         "2020-01-05 00:00:00",
         "Afghanistan",
         "AFG",
         "0",
         "0",
         "0",
         "0",
         "0"
        ],
        [
         "1",
         "2020-01-06 00:00:00",
         "Afghanistan",
         "AFG",
         "0",
         "0",
         "0",
         "0",
         "0"
        ],
        [
         "2",
         "2020-01-07 00:00:00",
         "Afghanistan",
         "AFG",
         "0",
         "0",
         "0",
         "0",
         "0"
        ],
        [
         "3",
         "2020-01-08 00:00:00",
         "Afghanistan",
         "AFG",
         "0",
         "0",
         "0",
         "0",
         "0"
        ],
        [
         "4",
         "2020-01-09 00:00:00",
         "Afghanistan",
         "AFG",
         "0",
         "0",
         "0",
         "0",
         "0"
        ]
       ],
       "shape": {
        "columns": 8,
        "rows": 5
       }
      },
      "text/html": [
       "<div>\n",
       "<style scoped>\n",
       "    .dataframe tbody tr th:only-of-type {\n",
       "        vertical-align: middle;\n",
       "    }\n",
       "\n",
       "    .dataframe tbody tr th {\n",
       "        vertical-align: top;\n",
       "    }\n",
       "\n",
       "    .dataframe thead th {\n",
       "        text-align: right;\n",
       "    }\n",
       "</style>\n",
       "<table border=\"1\" class=\"dataframe\">\n",
       "  <thead>\n",
       "    <tr style=\"text-align: right;\">\n",
       "      <th></th>\n",
       "      <th>date</th>\n",
       "      <th>location</th>\n",
       "      <th>iso_code</th>\n",
       "      <th>total_cases</th>\n",
       "      <th>total_deaths</th>\n",
       "      <th>new_cases</th>\n",
       "      <th>new_deaths</th>\n",
       "      <th>total_vaccinations</th>\n",
       "    </tr>\n",
       "  </thead>\n",
       "  <tbody>\n",
       "    <tr>\n",
       "      <th>0</th>\n",
       "      <td>2020-01-05</td>\n",
       "      <td>Afghanistan</td>\n",
       "      <td>AFG</td>\n",
       "      <td>0</td>\n",
       "      <td>0</td>\n",
       "      <td>0</td>\n",
       "      <td>0</td>\n",
       "      <td>0</td>\n",
       "    </tr>\n",
       "    <tr>\n",
       "      <th>1</th>\n",
       "      <td>2020-01-06</td>\n",
       "      <td>Afghanistan</td>\n",
       "      <td>AFG</td>\n",
       "      <td>0</td>\n",
       "      <td>0</td>\n",
       "      <td>0</td>\n",
       "      <td>0</td>\n",
       "      <td>0</td>\n",
       "    </tr>\n",
       "    <tr>\n",
       "      <th>2</th>\n",
       "      <td>2020-01-07</td>\n",
       "      <td>Afghanistan</td>\n",
       "      <td>AFG</td>\n",
       "      <td>0</td>\n",
       "      <td>0</td>\n",
       "      <td>0</td>\n",
       "      <td>0</td>\n",
       "      <td>0</td>\n",
       "    </tr>\n",
       "    <tr>\n",
       "      <th>3</th>\n",
       "      <td>2020-01-08</td>\n",
       "      <td>Afghanistan</td>\n",
       "      <td>AFG</td>\n",
       "      <td>0</td>\n",
       "      <td>0</td>\n",
       "      <td>0</td>\n",
       "      <td>0</td>\n",
       "      <td>0</td>\n",
       "    </tr>\n",
       "    <tr>\n",
       "      <th>4</th>\n",
       "      <td>2020-01-09</td>\n",
       "      <td>Afghanistan</td>\n",
       "      <td>AFG</td>\n",
       "      <td>0</td>\n",
       "      <td>0</td>\n",
       "      <td>0</td>\n",
       "      <td>0</td>\n",
       "      <td>0</td>\n",
       "    </tr>\n",
       "  </tbody>\n",
       "</table>\n",
       "</div>"
      ],
      "text/plain": [
       "        date     location iso_code  total_cases  total_deaths  new_cases  \\\n",
       "0 2020-01-05  Afghanistan      AFG            0             0          0   \n",
       "1 2020-01-06  Afghanistan      AFG            0             0          0   \n",
       "2 2020-01-07  Afghanistan      AFG            0             0          0   \n",
       "3 2020-01-08  Afghanistan      AFG            0             0          0   \n",
       "4 2020-01-09  Afghanistan      AFG            0             0          0   \n",
       "\n",
       "   new_deaths  total_vaccinations  \n",
       "0           0                   0  \n",
       "1           0                   0  \n",
       "2           0                   0  \n",
       "3           0                   0  \n",
       "4           0                   0  "
      ]
     },
     "execution_count": 17,
     "metadata": {},
     "output_type": "execute_result"
    }
   ],
   "source": [
    "# verify changes by displaying the first few rows of the modified DataFrame\n",
    "df_selected.head()"
   ]
  },
  {
   "cell_type": "code",
   "execution_count": 18,
   "metadata": {},
   "outputs": [
    {
     "name": "stdout",
     "output_type": "stream",
     "text": [
      "Number of negative values in total_cases: 0\n",
      "Number of negative values in total_deaths: 0\n",
      "Number of negative values in new_cases: 0\n",
      "Number of negative values in new_deaths: 0\n",
      "Number of negative values in total_vaccinations: 0\n"
     ]
    }
   ],
   "source": [
    "# Check for negative values in numeric columns\n",
    "for col in ['total_cases', 'total_deaths', 'new_cases', 'new_deaths', 'total_vaccinations']:\n",
    "    num_negatives = (df_selected[col] < 0).sum()\n",
    "    print(f\"Number of negative values in {col}: {num_negatives}\")"
   ]
  },
  {
   "cell_type": "markdown",
   "metadata": {},
   "source": [
    "🙂‍↔️Our data is now clean and ready for analysis 🎯."
   ]
  },
  {
   "cell_type": "code",
   "execution_count": 19,
   "metadata": {},
   "outputs": [
    {
     "name": "stdout",
     "output_type": "stream",
     "text": [
      "Preview of cleaned data:\n"
     ]
    },
    {
     "data": {
      "application/vnd.microsoft.datawrangler.viewer.v0+json": {
       "columns": [
        {
         "name": "index",
         "rawType": "int64",
         "type": "integer"
        },
        {
         "name": "date",
         "rawType": "datetime64[ns]",
         "type": "datetime"
        },
        {
         "name": "location",
         "rawType": "object",
         "type": "string"
        },
        {
         "name": "iso_code",
         "rawType": "object",
         "type": "string"
        },
        {
         "name": "total_cases",
         "rawType": "Int64",
         "type": "integer"
        },
        {
         "name": "total_deaths",
         "rawType": "Int64",
         "type": "integer"
        },
        {
         "name": "new_cases",
         "rawType": "Int64",
         "type": "integer"
        },
        {
         "name": "new_deaths",
         "rawType": "Int64",
         "type": "integer"
        },
        {
         "name": "total_vaccinations",
         "rawType": "Int64",
         "type": "integer"
        }
       ],
       "conversionMethod": "pd.DataFrame",
       "ref": "00debb69-3190-42a8-96eb-0c093a4526e9",
       "rows": [
        [
         "0",
         "2020-01-05 00:00:00",
         "Afghanistan",
         "AFG",
         "0",
         "0",
         "0",
         "0",
         "0"
        ],
        [
         "1",
         "2020-01-06 00:00:00",
         "Afghanistan",
         "AFG",
         "0",
         "0",
         "0",
         "0",
         "0"
        ],
        [
         "2",
         "2020-01-07 00:00:00",
         "Afghanistan",
         "AFG",
         "0",
         "0",
         "0",
         "0",
         "0"
        ],
        [
         "3",
         "2020-01-08 00:00:00",
         "Afghanistan",
         "AFG",
         "0",
         "0",
         "0",
         "0",
         "0"
        ],
        [
         "4",
         "2020-01-09 00:00:00",
         "Afghanistan",
         "AFG",
         "0",
         "0",
         "0",
         "0",
         "0"
        ]
       ],
       "shape": {
        "columns": 8,
        "rows": 5
       }
      },
      "text/html": [
       "<div>\n",
       "<style scoped>\n",
       "    .dataframe tbody tr th:only-of-type {\n",
       "        vertical-align: middle;\n",
       "    }\n",
       "\n",
       "    .dataframe tbody tr th {\n",
       "        vertical-align: top;\n",
       "    }\n",
       "\n",
       "    .dataframe thead th {\n",
       "        text-align: right;\n",
       "    }\n",
       "</style>\n",
       "<table border=\"1\" class=\"dataframe\">\n",
       "  <thead>\n",
       "    <tr style=\"text-align: right;\">\n",
       "      <th></th>\n",
       "      <th>date</th>\n",
       "      <th>location</th>\n",
       "      <th>iso_code</th>\n",
       "      <th>total_cases</th>\n",
       "      <th>total_deaths</th>\n",
       "      <th>new_cases</th>\n",
       "      <th>new_deaths</th>\n",
       "      <th>total_vaccinations</th>\n",
       "    </tr>\n",
       "  </thead>\n",
       "  <tbody>\n",
       "    <tr>\n",
       "      <th>0</th>\n",
       "      <td>2020-01-05</td>\n",
       "      <td>Afghanistan</td>\n",
       "      <td>AFG</td>\n",
       "      <td>0</td>\n",
       "      <td>0</td>\n",
       "      <td>0</td>\n",
       "      <td>0</td>\n",
       "      <td>0</td>\n",
       "    </tr>\n",
       "    <tr>\n",
       "      <th>1</th>\n",
       "      <td>2020-01-06</td>\n",
       "      <td>Afghanistan</td>\n",
       "      <td>AFG</td>\n",
       "      <td>0</td>\n",
       "      <td>0</td>\n",
       "      <td>0</td>\n",
       "      <td>0</td>\n",
       "      <td>0</td>\n",
       "    </tr>\n",
       "    <tr>\n",
       "      <th>2</th>\n",
       "      <td>2020-01-07</td>\n",
       "      <td>Afghanistan</td>\n",
       "      <td>AFG</td>\n",
       "      <td>0</td>\n",
       "      <td>0</td>\n",
       "      <td>0</td>\n",
       "      <td>0</td>\n",
       "      <td>0</td>\n",
       "    </tr>\n",
       "    <tr>\n",
       "      <th>3</th>\n",
       "      <td>2020-01-08</td>\n",
       "      <td>Afghanistan</td>\n",
       "      <td>AFG</td>\n",
       "      <td>0</td>\n",
       "      <td>0</td>\n",
       "      <td>0</td>\n",
       "      <td>0</td>\n",
       "      <td>0</td>\n",
       "    </tr>\n",
       "    <tr>\n",
       "      <th>4</th>\n",
       "      <td>2020-01-09</td>\n",
       "      <td>Afghanistan</td>\n",
       "      <td>AFG</td>\n",
       "      <td>0</td>\n",
       "      <td>0</td>\n",
       "      <td>0</td>\n",
       "      <td>0</td>\n",
       "      <td>0</td>\n",
       "    </tr>\n",
       "  </tbody>\n",
       "</table>\n",
       "</div>"
      ],
      "text/plain": [
       "        date     location iso_code  total_cases  total_deaths  new_cases  \\\n",
       "0 2020-01-05  Afghanistan      AFG            0             0          0   \n",
       "1 2020-01-06  Afghanistan      AFG            0             0          0   \n",
       "2 2020-01-07  Afghanistan      AFG            0             0          0   \n",
       "3 2020-01-08  Afghanistan      AFG            0             0          0   \n",
       "4 2020-01-09  Afghanistan      AFG            0             0          0   \n",
       "\n",
       "   new_deaths  total_vaccinations  \n",
       "0           0                   0  \n",
       "1           0                   0  \n",
       "2           0                   0  \n",
       "3           0                   0  \n",
       "4           0                   0  "
      ]
     },
     "execution_count": 19,
     "metadata": {},
     "output_type": "execute_result"
    }
   ],
   "source": [
    "# Reassign the cleaned DataFrame to 'data' for further analysis\n",
    "\n",
    "data = df_selected.copy()\n",
    "\n",
    "# Display the first few rows to confirm\n",
    "print(\"Preview of cleaned data:\")\n",
    "data.head()\n",
    "\n",
    "# Optional: Save the cleaned data to a local CSV file\n",
    "# Uncomment the following lines to save\n",
    "# data.to_csv('cleaned_covid_data.csv', index=False)\n",
    "# print(\"Cleaned data saved to 'cleaned_covid_data.csv'.\")"
   ]
  },
  {
   "cell_type": "markdown",
   "metadata": {},
   "source": [
    "## Descriptive Statistics"
   ]
  },
  {
   "cell_type": "code",
   "execution_count": 20,
   "metadata": {},
   "outputs": [
    {
     "data": {
      "text/plain": [
       "(402910, 8)"
      ]
     },
     "execution_count": 20,
     "metadata": {},
     "output_type": "execute_result"
    }
   ],
   "source": [
    "# Display the shape of the cleaned DataFrame\n",
    "data.shape"
   ]
  },
  {
   "cell_type": "markdown",
   "metadata": {},
   "source": [
    "Our cleaned data `7` columns with `405934` observations."
   ]
  },
  {
   "cell_type": "code",
   "execution_count": 21,
   "metadata": {},
   "outputs": [
    {
     "data": {
      "application/vnd.microsoft.datawrangler.viewer.v0+json": {
       "columns": [
        {
         "name": "index",
         "rawType": "object",
         "type": "string"
        },
        {
         "name": "date",
         "rawType": "object",
         "type": "unknown"
        },
        {
         "name": "total_cases",
         "rawType": "Float64",
         "type": "float"
        },
        {
         "name": "total_deaths",
         "rawType": "Float64",
         "type": "float"
        },
        {
         "name": "new_cases",
         "rawType": "Float64",
         "type": "float"
        },
        {
         "name": "new_deaths",
         "rawType": "Float64",
         "type": "float"
        },
        {
         "name": "total_vaccinations",
         "rawType": "Float64",
         "type": "float"
        }
       ],
       "conversionMethod": "pd.DataFrame",
       "ref": "934d5ad2-ca1c-48d2-9b22-53cc46e90b1d",
       "rows": [
        [
         "count",
         "402910",
         "402910.0",
         "402910.0",
         "402910.0",
         "402910.0",
         "402910.0"
        ],
        [
         "mean",
         "2022-04-18 09:33:33.108634368",
         "1776320.2256111787",
         "19880.27347298404",
         "1925.8272492616218",
         "17.52497580104738",
         "16217258.1082748"
        ],
        [
         "min",
         "2020-01-01 00:00:00",
         "0.0",
         "0.0",
         "0.0",
         "0.0",
         "0.0"
        ],
        [
         "25%",
         "2021-02-28 00:00:00",
         "3904.0",
         "27.0",
         "0.0",
         "0.0",
         "0.0"
        ],
        [
         "50%",
         "2022-04-17 00:00:00",
         "45178.5",
         "532.5",
         "0.0",
         "0.0",
         "0.0"
        ],
        [
         "75%",
         "2023-06-07 00:00:00",
         "516023.0",
         "6881.0",
         "0.0",
         "0.0",
         "0.0"
        ],
        [
         "max",
         "2024-08-14 00:00:00",
         "103436829.0",
         "1193165.0",
         "40475477.0",
         "47687.0",
         "3491077000.0"
        ],
        [
         "std",
         null,
         "7753084.694886884",
         "81536.73172535418",
         "84479.951022009",
         "310.02149383940196",
         "156767363.1640069"
        ]
       ],
       "shape": {
        "columns": 6,
        "rows": 8
       }
      },
      "text/html": [
       "<div>\n",
       "<style scoped>\n",
       "    .dataframe tbody tr th:only-of-type {\n",
       "        vertical-align: middle;\n",
       "    }\n",
       "\n",
       "    .dataframe tbody tr th {\n",
       "        vertical-align: top;\n",
       "    }\n",
       "\n",
       "    .dataframe thead th {\n",
       "        text-align: right;\n",
       "    }\n",
       "</style>\n",
       "<table border=\"1\" class=\"dataframe\">\n",
       "  <thead>\n",
       "    <tr style=\"text-align: right;\">\n",
       "      <th></th>\n",
       "      <th>date</th>\n",
       "      <th>total_cases</th>\n",
       "      <th>total_deaths</th>\n",
       "      <th>new_cases</th>\n",
       "      <th>new_deaths</th>\n",
       "      <th>total_vaccinations</th>\n",
       "    </tr>\n",
       "  </thead>\n",
       "  <tbody>\n",
       "    <tr>\n",
       "      <th>count</th>\n",
       "      <td>402910</td>\n",
       "      <td>402910.0</td>\n",
       "      <td>402910.0</td>\n",
       "      <td>402910.0</td>\n",
       "      <td>402910.0</td>\n",
       "      <td>402910.0</td>\n",
       "    </tr>\n",
       "    <tr>\n",
       "      <th>mean</th>\n",
       "      <td>2022-04-18 09:33:33.108634368</td>\n",
       "      <td>1776320.225611</td>\n",
       "      <td>19880.273473</td>\n",
       "      <td>1925.827249</td>\n",
       "      <td>17.524976</td>\n",
       "      <td>16217258.108275</td>\n",
       "    </tr>\n",
       "    <tr>\n",
       "      <th>min</th>\n",
       "      <td>2020-01-01 00:00:00</td>\n",
       "      <td>0.0</td>\n",
       "      <td>0.0</td>\n",
       "      <td>0.0</td>\n",
       "      <td>0.0</td>\n",
       "      <td>0.0</td>\n",
       "    </tr>\n",
       "    <tr>\n",
       "      <th>25%</th>\n",
       "      <td>2021-02-28 00:00:00</td>\n",
       "      <td>3904.0</td>\n",
       "      <td>27.0</td>\n",
       "      <td>0.0</td>\n",
       "      <td>0.0</td>\n",
       "      <td>0.0</td>\n",
       "    </tr>\n",
       "    <tr>\n",
       "      <th>50%</th>\n",
       "      <td>2022-04-17 00:00:00</td>\n",
       "      <td>45178.5</td>\n",
       "      <td>532.5</td>\n",
       "      <td>0.0</td>\n",
       "      <td>0.0</td>\n",
       "      <td>0.0</td>\n",
       "    </tr>\n",
       "    <tr>\n",
       "      <th>75%</th>\n",
       "      <td>2023-06-07 00:00:00</td>\n",
       "      <td>516023.0</td>\n",
       "      <td>6881.0</td>\n",
       "      <td>0.0</td>\n",
       "      <td>0.0</td>\n",
       "      <td>0.0</td>\n",
       "    </tr>\n",
       "    <tr>\n",
       "      <th>max</th>\n",
       "      <td>2024-08-14 00:00:00</td>\n",
       "      <td>103436829.0</td>\n",
       "      <td>1193165.0</td>\n",
       "      <td>40475477.0</td>\n",
       "      <td>47687.0</td>\n",
       "      <td>3491077000.0</td>\n",
       "    </tr>\n",
       "    <tr>\n",
       "      <th>std</th>\n",
       "      <td>NaN</td>\n",
       "      <td>7753084.694887</td>\n",
       "      <td>81536.731725</td>\n",
       "      <td>84479.951022</td>\n",
       "      <td>310.021494</td>\n",
       "      <td>156767363.164007</td>\n",
       "    </tr>\n",
       "  </tbody>\n",
       "</table>\n",
       "</div>"
      ],
      "text/plain": [
       "                                date     total_cases  total_deaths  \\\n",
       "count                         402910        402910.0      402910.0   \n",
       "mean   2022-04-18 09:33:33.108634368  1776320.225611  19880.273473   \n",
       "min              2020-01-01 00:00:00             0.0           0.0   \n",
       "25%              2021-02-28 00:00:00          3904.0          27.0   \n",
       "50%              2022-04-17 00:00:00         45178.5         532.5   \n",
       "75%              2023-06-07 00:00:00        516023.0        6881.0   \n",
       "max              2024-08-14 00:00:00     103436829.0     1193165.0   \n",
       "std                              NaN  7753084.694887  81536.731725   \n",
       "\n",
       "          new_cases  new_deaths  total_vaccinations  \n",
       "count      402910.0    402910.0            402910.0  \n",
       "mean    1925.827249   17.524976     16217258.108275  \n",
       "min             0.0         0.0                 0.0  \n",
       "25%             0.0         0.0                 0.0  \n",
       "50%             0.0         0.0                 0.0  \n",
       "75%             0.0         0.0                 0.0  \n",
       "max      40475477.0     47687.0        3491077000.0  \n",
       "std    84479.951022  310.021494    156767363.164007  "
      ]
     },
     "execution_count": 21,
     "metadata": {},
     "output_type": "execute_result"
    }
   ],
   "source": [
    "# Descrive statistics of the cleaned DataFrame\n",
    "data.describe()"
   ]
  },
  {
   "cell_type": "markdown",
   "metadata": {},
   "source": [
    "## Exploratory Data Analysis (EDA)"
   ]
  },
  {
   "cell_type": "markdown",
   "metadata": {},
   "source": [
    "### Plotting Total Cases Over Time for Selected Countries\n",
    "\n",
    "We'll start by visualizing the total cases over time for a few selected countries. This will help us understand the progression of the pandemic across different regions.\n",
    "\n"
   ]
  },
  {
   "cell_type": "code",
   "execution_count": 22,
   "metadata": {},
   "outputs": [
    {
     "data": {
      "image/png": "[encoded data removed]",
      "text/plain": [
       "<Figure size 1000x600 with 1 Axes>"
      ]
     },
     "metadata": {},
     "output_type": "display_data"
    }
   ],
   "source": [
    "# Get top 10 countries by total cases\n",
    "top_countries = data.groupby('location')['total_cases'].max().nlargest(10)\n",
    "\n",
    "# Sort values in descending order to get longest bar at top\n",
    "top_countries = top_countries.sort_values(ascending=False)\n",
    "\n",
    "# Plot a horizontal bar chart\n",
    "plt.figure(figsize=(10, 6))\n",
    "ax = sns.barplot(x=top_countries.values, y=top_countries.index, orient='h', palette='viridis')\n",
    "plt.xlabel('Total COVID-19 Cases')\n",
    "plt.ylabel('Country')\n",
    "plt.title('Top 10 Countries by Total COVID-19 Cases')\n",
    "\n",
    "# Remove grid lines\n",
    "ax.grid(False)\n",
    "\n",
    "plt.show();"
   ]
  },
  {
   "cell_type": "markdown",
   "metadata": {},
   "source": [
    "The bar plot above reveals clear patterns in the global distribution of COVID-19 cases:\n",
    "\n",
    "- **United States and China** dominate with approximately 100M and 95M cases respectively\n",
    "- **India** ranks third with a significant gap (about 45M cases)\n",
    "- European nations comprise 40% of the top 10 (France, Germany, Italy, UK)\n",
    "- Asian countries represent another 40% (China, India, Japan, South Korea)\n",
    "- **Brazil** is the sole representative from South America\n",
    "\n",
    "This distribution reflects both population size and varying reporting methodologies across countries."
   ]
  },
  {
   "cell_type": "code",
   "execution_count": 23,
   "metadata": {},
   "outputs": [
    {
     "name": "stdout",
     "output_type": "stream",
     "text": [
      "Global death rate (total deaths per total cases) was: 1.12%\n",
      "\n",
      "Death rates for countries with highest case counts:\n",
      "       Country  Death Rate (%)  Total Deaths  Total Cases\n",
      "        Brazil            2.10     845533502  40274470410\n",
      " United States            1.23    1302221334 105914483457\n",
      "         India            1.22     636656068  52079485202\n",
      "United Kingdom            1.12     277603206  24768373218\n",
      "         Italy            0.96     226781854  23516696786\n",
      "       Germany            0.57     190391817  33383624547\n",
      "        France            0.56     197522787  35276866268\n",
      "         Japan            0.25      60353535  24572158686\n",
      "         China            0.13      79278696  59789650705\n",
      "   South Korea            0.11      29376266  25657640953\n"
     ]
    },
    {
     "data": {
      "image/png": "[encoded data removed]",
      "text/plain": [
       "<Figure size 1200x800 with 1 Axes>"
      ]
     },
     "metadata": {},
     "output_type": "display_data"
    }
   ],
   "source": [
    "# Handle missing values by filling NaN with 0 for total_deaths and total_cases\n",
    "data['total_deaths'] = data['total_deaths'].fillna(0)\n",
    "data['total_cases'] = data['total_cases'].fillna(0)\n",
    "\n",
    "# Calculate death rate, avoiding division by zero\n",
    "data['death_rate'] = data.apply(\n",
    "    lambda row: (row['total_deaths'] / row['total_cases'] * 100) if row['total_cases'] > 0 else 0, \n",
    "    axis=1\n",
    ")\n",
    "\n",
    "# Print overall global death rate\n",
    "global_death_rate = data['total_deaths'].sum() / data['total_cases'].sum() * 100\n",
    "print(f\"Global death rate (total deaths per total cases) was: {global_death_rate:.2f}%\")\n",
    "\n",
    "# Get death rates for top 10 countries by total cases\n",
    "top_countries = data.groupby('location')['total_cases'].sum().nlargest(10).index\n",
    "country_rates = []\n",
    "\n",
    "for country in top_countries:\n",
    "    country_data = data[data['location'] == country]\n",
    "    if not country_data.empty:\n",
    "        total_cases = country_data['total_cases'].sum()\n",
    "        total_deaths = country_data['total_deaths'].sum()\n",
    "        death_rate = (total_deaths / total_cases * 100) if total_cases > 0 else 0\n",
    "        country_rates.append({\n",
    "            'Country': country,\n",
    "            'Death Rate (%)': death_rate,\n",
    "            'Total Cases': total_cases,\n",
    "            'Total Deaths': total_deaths\n",
    "        })\n",
    "\n",
    "# Create DataFrame for death rates\n",
    "death_rate_df = pd.DataFrame(country_rates).sort_values('Death Rate (%)', ascending=False)\n",
    "\n",
    "# Print death rates for countries\n",
    "print(\"\\nDeath rates for countries with highest case counts:\")\n",
    "print(death_rate_df[['Country', 'Death Rate (%)', 'Total Deaths', 'Total Cases']]\n",
    "      .to_string(index=False, float_format=lambda x: f\"{x:.2f}\"))\n",
    "\n",
    "# Plot death rates (horizontal bar plot)\n",
    "plt.figure(figsize=(12, 8))\n",
    "ax = sns.barplot(y='Country', x='Death Rate (%)', data=death_rate_df, palette='viridis')\n",
    "plt.title('COVID-19 Death Rates in Countries with Highest Case Counts')\n",
    "plt.xlabel('Death Rate (%)')\n",
    "plt.ylabel('Country')\n",
    "plt.tight_layout()\n",
    "\n",
    "# Add value labels on bars\n",
    "for index, value in enumerate(death_rate_df['Death Rate (%)']):\n",
    "    ax.text(value + 0.2, index, f\"{value:.2f}%\", va='center')\n",
    "\n",
    "# plt.savefig('death_rates.png', bbox_inches='tight') # Save the plot as a PNG file\n",
    "plt.show();\n"
   ]
  },
  {
   "cell_type": "markdown",
   "metadata": {},
   "source": [
    "The bar chart above displays death rates (total deaths per total cases) for the top 10 countries by COVID-19 case counts, compared to a global death rate of 1.12%:\n",
    "\n",
    "* Brazil exhibits the highest death rate at 2.10%, nearly double the global average, despite having 40M cases.\n",
    "* United States and India follow closely with death rates of 1.23% and 1.22%, respectively, both slightly above the global average, reflecting their massive case counts (105M for the US, 52M for India).\n",
    "* European countries show varied outcomes:\n",
    "  - Italy (1.12%) matches the global average.\n",
    "  - United Kingdom (0.96%), Germany (0.57%), and France (0.56%) are below it, suggesting effective healthcare interventions.\n",
    "* Asian countries report significantly lower death rates:\n",
    "  - Japan (0.25%), China (0.13%), and South Korea (0.11%) are well below the global average, likely due to robust public health measures.\n",
    "* Regional distribution:\n",
    "  - European nations (Italy, UK, Germany, France) make up 40% of the top 10.\n",
    "  - Asian countries (India, Japan, China, South Korea) also account for 40%, with Brazil as the sole South American representative.\n",
    "\n",
    "This analysis underscores stark regional differences in death rates, potentially driven by healthcare infrastructure, population density, and containment strategies."
   ]
  },
  {
   "cell_type": "code",
   "execution_count": 24,
   "metadata": {},
   "outputs": [
    {
     "data": {
      "image/png": "[encoded data removed]",
      "text/plain": [
       "<Figure size 1200x600 with 1 Axes>"
      ]
     },
     "metadata": {},
     "output_type": "display_data"
    }
   ],
   "source": [
    "# Select a few countries for comparison\n",
    "selected_countries = ['Kenya', 'USA', 'India', 'Brazil']\n",
    "\n",
    "# Filter data for selected countries\n",
    "data_selected = data[data['location'].isin(selected_countries)]\n",
    "\n",
    "# Plot total cases over time\n",
    "plt.figure(figsize=(12, 6))\n",
    "for country in selected_countries:\n",
    "    country_data = data_selected[data_selected['location'] == country]\n",
    "    plt.plot(country_data['date'], country_data['total_cases'], label=country)\n",
    "\n",
    "plt.title('Total COVID-19 Cases Over Time')\n",
    "plt.xlabel('Date')\n",
    "plt.ylabel('Total Cases')\n",
    "plt.legend()\n",
    "plt.grid(False) # Remove the grid\n",
    "plt.show();"
   ]
  },
  {
   "cell_type": "markdown",
   "metadata": {},
   "source": [
    "#### Interpretation of the Plot\n",
    "\n",
    "- The plot shows the progression of total COVID-19 cases over time for Kenya, USA, India, and Brazil.\n",
    "- The USA and India experienced the highest number of cases, with sharp increases during major waves of the pandemic.\n",
    "- Brazil also saw a significant rise in cases, following a similar trend to India but at a slightly lower scale.\n",
    "- Kenya’s total cases remained much lower compared to the other three countries, indicating a smaller overall outbreak.\n",
    "- The step-like patterns in the curves may reflect reporting delays or sudden data updates in some countries."
   ]
  },
  {
   "cell_type": "markdown",
   "metadata": {},
   "source": [
    "   ### Plotting Total Deaths Over Time for Selected Countries\n",
    "\n",
    "   Next, we'll visualize the total deaths over time for Kenya, USA, India, and Brazil to compare the mortality trends of the pandemic in these countries."
   ]
  },
  {
   "cell_type": "code",
   "execution_count": 25,
   "metadata": {},
   "outputs": [
    {
     "data": {
      "image/png": "[encoded data removed]",
      "text/plain": [
       "<Figure size 1200x600 with 1 Axes>"
      ]
     },
     "metadata": {},
     "output_type": "display_data"
    }
   ],
   "source": [
    "# Plot total deaths over time for selected countries\n",
    "plt.figure(figsize=(12, 6))\n",
    "for country in selected_countries:\n",
    "    country_data = data_selected[data_selected['location'] == country]\n",
    "    plt.plot(country_data['date'], country_data['total_deaths'], label=country)\n",
    "\n",
    "plt.title('Total COVID-19 Deaths Over Time')\n",
    "plt.xlabel('Date')\n",
    "plt.ylabel('Total Deaths')\n",
    "plt.legend()\n",
    "plt.grid(False)\n",
    "plt.show();"
   ]
  },
  {
   "cell_type": "markdown",
   "metadata": {},
   "source": [
    "#### Interpretation of the Total Deaths Plot\n",
    "\n",
    "- The plot displays the cumulative number of COVID-19 deaths over time for Kenya, USA, India, and Brazil.\n",
    "- The USA experienced the highest total deaths, with a steep rise during major pandemic waves.\n",
    "- Brazil and India also show significant increases in total deaths, with Brazil’s curve closely following India’s but at a slightly lower level.\n",
    "- Kenya’s total deaths remain much lower than the other countries, reflecting a smaller overall mortality impact.\n",
    "- The shape of the curves mirrors the trends seen in total cases, but the differences between countries are even more pronounced in terms of deaths.\n",
    "- Any sudden jumps or plateaus in the curves may indicate changes in reporting or data updates."
   ]
  },
  {
   "cell_type": "markdown",
   "metadata": {},
   "source": [
    "### Comparing Daily New Cases Between Selected Countries\n",
    "\n",
    "Now, we'll compare the daily new COVID-19 cases for Kenya, USA, India, and Brazil. This visualization highlights the timing and intensity of infection waves in each country."
   ]
  },
  {
   "cell_type": "code",
   "execution_count": 26,
   "metadata": {},
   "outputs": [
    {
     "data": {
      "image/png": "[encoded data removed]",
      "text/plain": [
       "<Figure size 1200x600 with 1 Axes>"
      ]
     },
     "metadata": {},
     "output_type": "display_data"
    }
   ],
   "source": [
    "# Plot daily new cases over time for selected countries\n",
    "plt.figure(figsize=(12, 6))\n",
    "for country in selected_countries:\n",
    "    country_data = data_selected[data_selected['location'] == country]\n",
    "    plt.plot(country_data['date'], country_data['new_cases'], label=country)\n",
    "\n",
    "plt.title('Daily New COVID-19 Cases Over Time')\n",
    "plt.xlabel('Date')\n",
    "plt.ylabel('New Cases per Day')\n",
    "plt.legend()\n",
    "plt.grid(False)\n",
    "plt.show();"
   ]
  },
  {
   "cell_type": "markdown",
   "metadata": {},
   "source": [
    "The bar chart compares daily new COVID-19 cases over time for Kenya, USA, India, and Brazil, highlighting the intensity and timing of infection waves:\n",
    "\n",
    "* **India experienced the most intense peak**, with bars reaching over 2.5 million cases per day in mid-2021, indicating a major outbreak during that period.\n",
    "* **Brazil shows a significant wave**, with bars peaking around 2 million cases per day in 2021, followed by smaller spikes through 2023.\n",
    "* **USA had consistent high activity**, with bars peaking around 1.5 million cases per day in 2020 and 2022, reflecting sustained infection waves.\n",
    "* **Kenya displays lower intensity**, with bars peaking at approximately 0.5 million cases per day in 2021, suggesting a less severe impact compared to the others.\n",
    "* **Temporal patterns**: The highest bars are concentrated between 2020 and 2022 across all countries, with a noticeable decline in 2023 and 2024, possibly due to vaccination efforts or containment measures.\n",
    "* **Regional insights**: India and Brazil, both from the Global South, show the tallest bars, while the USA maintains significant bars, and Kenya’s bars are the shortest.\n",
    "\n",
    "This bar chart underscores the varying magnitudes of the pandemic’s impact, influenced by population size, healthcare capacity, and public health responses."
   ]
  },
  {
   "cell_type": "code",
   "execution_count": 27,
   "metadata": {},
   "outputs": [
    {
     "data": {
      "image/png": "[encoded data removed]",
      "text/plain": [
       "<Figure size 1000x600 with 1 Axes>"
      ]
     },
     "metadata": {},
     "output_type": "display_data"
    }
   ],
   "source": [
    "# Get the latest data for each country\n",
    "latest_data = data.groupby('location').max('date')\n",
    "\n",
    "# Sort by total vaccinations and select the top 10 countries\n",
    "top_vaccinations = latest_data.nlargest(10, 'total_vaccinations')[['total_vaccinations']]\n",
    "\n",
    "# Plot a horizontal bar chart\n",
    "plt.figure(figsize=(10, 6))\n",
    "plt.barh(top_vaccinations.index, top_vaccinations['total_vaccinations'], color='#1f77b4')\n",
    "plt.xlabel('Total Vaccinations')\n",
    "plt.ylabel('Country')\n",
    "plt.title('Top 10 Countries with the Most Vaccinations')\n",
    "plt.gca().invert_yaxis()  # Invert y-axis to show the highest value at the top\n",
    "plt.show();"
   ]
  },
  {
   "cell_type": "markdown",
   "metadata": {},
   "source": [
    "The horizontal bar chart illustrates the total number of COVID-19 vaccinations administered in the top 10 countries, highlighting the global vaccination rollout:\n",
    "\n",
    "* **China leads significantly** with over 3.5 billion vaccinations, reflecting its large population and extensive vaccination campaign.\n",
    "* **India and the United States follow closely** with approximately 2.1 billion and 1.6 billion vaccinations, respectively, underscoring their substantial efforts in vaccine distribution.\n",
    "* **Other notable countries** include Brazil (around 800 million), Indonesia (around 600 million), and Japan (around 500 million), showing a mix of populous nations with robust vaccination programs.\n",
    "* **Asian countries dominate the list**, making up 50% of the top 10 (China, India, Indonesia, Japan, Bangladesh, Vietnam), likely due to their large populations.\n",
    "* **Latin American representation** includes Brazil, Mexico, and Vietnam, while the United States is the sole North American country.\n",
    "* **Pakistan and Bangladesh** round out the list with around 400 million vaccinations each, indicating significant rollout in South Asia.\n",
    "\n",
    "This distribution highlights the influence of population size on total vaccinations, with Asian countries leading due to their demographic weight, while also reflecting varying degrees of vaccination program efficiency."
   ]
  },
  {
   "cell_type": "code",
   "execution_count": 28,
   "metadata": {},
   "outputs": [
    {
     "data": {
      "image/png": "[encoded data removed]",
      "text/plain": [
       "<Figure size 800x800 with 1 Axes>"
      ]
     },
     "metadata": {},
     "output_type": "display_data"
    }
   ],
   "source": [
    "# Create a new column 'vaccination_status' where 1 = vaccinated, 0 = non-vaccinated\n",
    "data['vaccination_status'] = data['total_vaccinations'].apply(lambda x: 1 if x > 0 else 0)\n",
    "\n",
    "# Calculate the counts for vaccinated and non-vaccinated\n",
    "vaccinated_count = data['vaccination_status'].sum()  # Total rows with 1\n",
    "non_vaccinated_count = len(data) - vaccinated_count  # Total rows with 0\n",
    "\n",
    "# Data for the chart\n",
    "labels = ['Vaccinated', 'Non-Vaccinated']\n",
    "sizes = [vaccinated_count, non_vaccinated_count]\n",
    "colors = ['#262673', '#ff9900']\n",
    "\n",
    "# Create the doughnut chart\n",
    "plt.figure(figsize=(8, 8))\n",
    "plt.pie(sizes, labels=labels, colors=colors, autopct='%1.1f%%', startangle=90, wedgeprops={'width': 0.3})\n",
    "plt.title('Percentage of Vaccinated vs. Non-Vaccinated Population')\n",
    "plt.show();"
   ]
  },
  {
   "cell_type": "markdown",
   "metadata": {},
   "source": [
    "From the doughnut chart above, it was evident that the majority of people were unvaccinated accounting for `82.6%`. There was a low turnup for Covid-19 vaccinations accounting for `17.4%`."
   ]
  },
  {
   "cell_type": "code",
   "execution_count": 29,
   "metadata": {},
   "outputs": [
    {
     "data": {
      "image/png": "[encoded data removed]",
      "text/plain": [
       "<Figure size 1000x800 with 2 Axes>"
      ]
     },
     "metadata": {},
     "output_type": "display_data"
    }
   ],
   "source": [
    "# Select numerical columns for correlation analysis\n",
    "numerical_columns = ['total_cases', 'total_deaths', 'new_cases', 'new_deaths', 'total_vaccinations']\n",
    "\n",
    "# Compute the correlation matrix\n",
    "correlation_matrix = data[numerical_columns].corr()\n",
    "\n",
    "# Plot the heatmap using Seaborn\n",
    "plt.figure(figsize=(10, 8))\n",
    "sns.heatmap(correlation_matrix, annot=True, cmap='coolwarm', fmt='.2f', linewidths=0.5)\n",
    "plt.title('Correlation Heatmap of COVID-19 Metrics')\n",
    "plt.show();"
   ]
  },
  {
   "cell_type": "markdown",
   "metadata": {},
   "source": [
    "The correlation heatmap reveals the relationships between COVID-19 metrics (total_cases, total_deaths, new_cases, new_deaths, total_vaccinations):\n",
    "\n",
    "* **Total cases and total deaths** show a strong positive correlation (1.00), indicated by the deep red square, suggesting a direct relationship.\n",
    "* **Total deaths and total cases** also exhibit a strong positive correlation (0.79), reinforcing the link between these metrics.\n",
    "* **New cases and new deaths** have a strong positive correlation (1.00), shown by another deep red square, indicating that increases in daily cases closely align with daily deaths.\n",
    "* **New deaths and total deaths** show a moderate positive correlation (0.13), with a lighter red shade, suggesting some relationship but less intensity.\n",
    "* **Total vaccinations** have weak correlations with other metrics:\n",
    "  - 0.30 with total_cases, 0.33 with total_deaths, 0.08 with new_cases, 0.04 with new_deaths, and 1.00 with itself (all in blue or light shades), indicating minimal association with case and death metrics.\n",
    "* **Cross-metric patterns**: The diagonal (total_cases-total_cases, total_deaths-total_deaths, etc.) shows perfect correlation (1.00) as expected, while off-diagonal correlations vary from strong (e.g., 0.79) to weak (e.g., 0.04).\n",
    "\n",
    "This heatmap highlights strong correlations between total and daily case/death metrics, while vaccination rates appear largely uncorrelated with these outcomes.\n"
   ]
  },
  {
   "cell_type": "code",
   "execution_count": 30,
   "metadata": {},
   "outputs": [
    {
     "data": {
      "image/png": "[encoded data removed]",
      "text/plain": [
       "<Figure size 1200x600 with 1 Axes>"
      ]
     },
     "metadata": {},
     "output_type": "display_data"
    }
   ],
   "source": [
    "# Plot cumulative vaccinations over time for selected countries\n",
    "countries = ['Kenya', 'USA', 'India']  # You can modify this list\n",
    "vaccination_over_time = data[data['location'].isin(countries)].pivot_table(\n",
    "    values='total_vaccinations', \n",
    "    index='date', \n",
    "    columns='location', \n",
    "    aggfunc='sum'\n",
    ")\n",
    "\n",
    "plt.figure(figsize=(12, 6))\n",
    "for country in vaccination_over_time.columns:\n",
    "    plt.plot(vaccination_over_time.index, vaccination_over_time[country], label=country)\n",
    "plt.title('Cumulative Vaccinations Over Time', color='#333333')\n",
    "plt.xlabel('Date', color='#333333')\n",
    "plt.ylabel('Total Vaccinations', color='#333333')\n",
    "plt.grid(True, linestyle='--', alpha=0.7)\n",
    "plt.legend(title='Country', facecolor='#F2F2F2', edgecolor='#0078D4')\n",
    "plt.xticks(rotation=45, color='#333333')\n",
    "plt.yticks(color='#333333')\n",
    "plt.gcf().patch.set_facecolor('#FFFFFF')\n",
    "plt.savefig('cumulative_vaccinations.png', bbox_inches='tight') # Save the plot as a PNG file\n",
    "plt.show();"
   ]
  },
  {
   "cell_type": "markdown",
   "metadata": {},
   "source": [
    "The line chart displays the cumulative number of COVID-19 vaccinations over time for Kenya and India from 2020 to 2024:\n",
    "\n",
    "* **India shows a steep increase**, with the blue line rising sharply from 2021, reaching over 2 billion vaccinations by early 2024.\n",
    "* **Kenya exhibits minimal growth**, with the orange line remaining close to zero until 2021, then rising gradually to a much lower level, around 0.1 billion by 2024.\n",
    "* **Timing of rollout**: Both countries began significant vaccination efforts around 2021, but India’s curve accelerates much faster and earlier.\n",
    "* **Scale disparity**: The blue line for India towers over the orange line for Kenya, indicating a vast difference in vaccination totals.\n",
    "\n",
    "This line chart highlights the significant disparity in vaccination rollout scale and pace between India and Kenya."
   ]
  },
  {
   "cell_type": "code",
   "execution_count": 31,
   "metadata": {},
   "outputs": [
    {
     "data": {
      "application/vnd.plotly.v1+json": {
       "config": {
        "plotlyServerURL": "https://plot.ly"
       },
       "data": [
        {
         "coloraxis": "coloraxis",
         "geo": "geo",
         "hovertemplate": "<b>%{hovertext}</b><br><br>iso_code=%{location}<br>total_cases=%{z}<extra></extra>",
         "hovertext": [
          "Aruba",
          "Afghanistan",
          "Angola",
          "Anguilla",
          "Albania",
          "Andorra",
          "United Arab Emirates",
          "Argentina",
          "Armenia",
          "American Samoa",
          "Antigua and Barbuda",
          "Australia",
          "Austria",
          "Azerbaijan",
          "Burundi",
          "Belgium",
          "Benin",
          "Bonaire Sint Eustatius and Saba",
          "Burkina Faso",
          "Bangladesh",
          "Bulgaria",
          "Bahrain",
          "Bahamas",
          "Bosnia and Herzegovina",
          "Saint Barthelemy",
          "Belarus",
          "Belize",
          "Bermuda",
          "Bolivia",
          "Brazil",
          "Barbados",
          "Brunei",
          "Bhutan",
          "Botswana",
          "Central African Republic",
          "Canada",
          "Switzerland",
          "Chile",
          "China",
          "Cote d'Ivoire",
          "Cameroon",
          "Democratic Republic of Congo",
          "Congo",
          "Cook Islands",
          "Colombia",
          "Comoros",
          "Cape Verde",
          "Costa Rica",
          "Cuba",
          "Curacao",
          "Cayman Islands",
          "Cyprus",
          "Czechia",
          "Germany",
          "Djibouti",
          "Dominica",
          "Denmark",
          "Dominican Republic",
          "Algeria",
          "Ecuador",
          "Egypt",
          "Eritrea",
          "Western Sahara",
          "Spain",
          "Estonia",
          "Ethiopia",
          "Finland",
          "Fiji",
          "Falkland Islands",
          "France",
          "Faroe Islands",
          "Micronesia (country)",
          "Gabon",
          "United Kingdom",
          "Georgia",
          "Guernsey",
          "Ghana",
          "Gibraltar",
          "Guinea",
          "Guadeloupe",
          "Gambia",
          "Guinea-Bissau",
          "Equatorial Guinea",
          "Greece",
          "Grenada",
          "Greenland",
          "Guatemala",
          "French Guiana",
          "Guam",
          "Guyana",
          "Hong Kong",
          "Honduras",
          "Croatia",
          "Haiti",
          "Hungary",
          "Indonesia",
          "Isle of Man",
          "India",
          "Ireland",
          "Iran",
          "Iraq",
          "Iceland",
          "Israel",
          "Italy",
          "Jamaica",
          "Jersey",
          "Jordan",
          "Japan",
          "Kazakhstan",
          "Kenya",
          "Kyrgyzstan",
          "Cambodia",
          "Kiribati",
          "Saint Kitts and Nevis",
          "South Korea",
          "Kuwait",
          "Laos",
          "Lebanon",
          "Liberia",
          "Libya",
          "Saint Lucia",
          "Liechtenstein",
          "Sri Lanka",
          "Lesotho",
          "Lithuania",
          "Luxembourg",
          "Latvia",
          "Macao",
          "Saint Martin (French part)",
          "Morocco",
          "Monaco",
          "Moldova",
          "Madagascar",
          "Maldives",
          "Mexico",
          "Marshall Islands",
          "North Macedonia",
          "Mali",
          "Malta",
          "Myanmar",
          "Montenegro",
          "Mongolia",
          "Northern Mariana Islands",
          "Mozambique",
          "Mauritania",
          "Montserrat",
          "Martinique",
          "Mauritius",
          "Malawi",
          "Malaysia",
          "Mayotte",
          "Namibia",
          "New Caledonia",
          "Niger",
          "Nigeria",
          "Nicaragua",
          "Niue",
          "Netherlands",
          "Norway",
          "Nepal",
          "Nauru",
          "New Zealand",
          "Oman",
          "Northern Cyprus",
          "England",
          "Kosovo",
          "Northern Ireland",
          "Scotland",
          "Wales",
          "Pakistan",
          "Panama",
          "Pitcairn",
          "Peru",
          "Philippines",
          "Palau",
          "Papua New Guinea",
          "Poland",
          "Puerto Rico",
          "North Korea",
          "Portugal",
          "Paraguay",
          "Palestine",
          "French Polynesia",
          "Qatar",
          "Reunion",
          "Romania",
          "Russia",
          "Rwanda",
          "Saudi Arabia",
          "Sudan",
          "Senegal",
          "Singapore",
          "Saint Helena",
          "Solomon Islands",
          "Sierra Leone",
          "El Salvador",
          "San Marino",
          "Somalia",
          "Saint Pierre and Miquelon",
          "Serbia",
          "South Sudan",
          "Sao Tome and Principe",
          "Suriname",
          "Slovakia",
          "Slovenia",
          "Sweden",
          "Eswatini",
          "Sint Maarten (Dutch part)",
          "Seychelles",
          "Syria",
          "Turks and Caicos Islands",
          "Chad",
          "Togo",
          "Thailand",
          "Tajikistan",
          "Tokelau",
          "Turkmenistan",
          "East Timor",
          "Tonga",
          "Trinidad and Tobago",
          "Tunisia",
          "Turkey",
          "Tuvalu",
          "Taiwan",
          "Tanzania",
          "Uganda",
          "Ukraine",
          "Uruguay",
          "United States",
          "Uzbekistan",
          "Vatican",
          "Saint Vincent and the Grenadines",
          "Venezuela",
          "British Virgin Islands",
          "United States Virgin Islands",
          "Vietnam",
          "Vanuatu",
          "Wallis and Futuna",
          "Samoa",
          "Yemen",
          "South Africa",
          "Zambia",
          "Zimbabwe"
         ],
         "locations": [
          "ABW",
          "AFG",
          "AGO",
          "AIA",
          "ALB",
          "AND",
          "ARE",
          "ARG",
          "ARM",
          "ASM",
          "ATG",
          "AUS",
          "AUT",
          "AZE",
          "BDI",
          "BEL",
          "BEN",
          "BES",
          "BFA",
          "BGD",
          "BGR",
          "BHR",
          "BHS",
          "BIH",
          "BLM",
          "BLR",
          "BLZ",
          "BMU",
          "BOL",
          "BRA",
          "BRB",
          "BRN",
          "BTN",
          "BWA",
          "CAF",
          "CAN",
          "CHE",
          "CHL",
          "CHN",
          "CIV",
          "CMR",
          "COD",
          "COG",
          "COK",
          "COL",
          "COM",
          "CPV",
          "CRI",
          "CUB",
          "CUW",
          "CYM",
          "CYP",
          "CZE",
          "DEU",
          "DJI",
          "DMA",
          "DNK",
          "DOM",
          "DZA",
          "ECU",
          "EGY",
          "ERI",
          "ESH",
          "ESP",
          "EST",
          "ETH",
          "FIN",
          "FJI",
          "FLK",
          "FRA",
          "FRO",
          "FSM",
          "GAB",
          "GBR",
          "GEO",
          "GGY",
          "GHA",
          "GIB",
          "GIN",
          "GLP",
          "GMB",
          "GNB",
          "GNQ",
          "GRC",
          "GRD",
          "GRL",
          "GTM",
          "GUF",
          "GUM",
          "GUY",
          "HKG",
          "HND",
          "HRV",
          "HTI",
          "HUN",
          "IDN",
          "IMN",
          "IND",
          "IRL",
          "IRN",
          "IRQ",
          "ISL",
          "ISR",
          "ITA",
          "JAM",
          "JEY",
          "JOR",
          "JPN",
          "KAZ",
          "KEN",
          "KGZ",
          "KHM",
          "KIR",
          "KNA",
          "KOR",
          "KWT",
          "LAO",
          "LBN",
          "LBR",
          "LBY",
          "LCA",
          "LIE",
          "LKA",
          "LSO",
          "LTU",
          "LUX",
          "LVA",
          "MAC",
          "MAF",
          "MAR",
          "MCO",
          "MDA",
          "MDG",
          "MDV",
          "MEX",
          "MHL",
          "MKD",
          "MLI",
          "MLT",
          "MMR",
          "MNE",
          "MNG",
          "MNP",
          "MOZ",
          "MRT",
          "MSR",
          "MTQ",
          "MUS",
          "MWI",
          "MYS",
          "MYT",
          "NAM",
          "NCL",
          "NER",
          "NGA",
          "NIC",
          "NIU",
          "NLD",
          "NOR",
          "NPL",
          "NRU",
          "NZL",
          "OMN",
          "OWID_CYN",
          "OWID_ENG",
          "OWID_KOS",
          "OWID_NIR",
          "OWID_SCT",
          "OWID_WLS",
          "PAK",
          "PAN",
          "PCN",
          "PER",
          "PHL",
          "PLW",
          "PNG",
          "POL",
          "PRI",
          "PRK",
          "PRT",
          "PRY",
          "PSE",
          "PYF",
          "QAT",
          "REU",
          "ROU",
          "RUS",
          "RWA",
          "SAU",
          "SDN",
          "SEN",
          "SGP",
          "SHN",
          "SLB",
          "SLE",
          "SLV",
          "SMR",
          "SOM",
          "SPM",
          "SRB",
          "SSD",
          "STP",
          "SUR",
          "SVK",
          "SVN",
          "SWE",
          "SWZ",
          "SXM",
          "SYC",
          "SYR",
          "TCA",
          "TCD",
          "TGO",
          "THA",
          "TJK",
          "TKL",
          "TKM",
          "TLS",
          "TON",
          "TTO",
          "TUN",
          "TUR",
          "TUV",
          "TWN",
          "TZA",
          "UGA",
          "UKR",
          "URY",
          "USA",
          "UZB",
          "VAT",
          "VCT",
          "VEN",
          "VGB",
          "VIR",
          "VNM",
          "VUT",
          "WLF",
          "WSM",
          "YEM",
          "ZAF",
          "ZMB",
          "ZWE"
         ],
         "name": "",
         "type": "choropleth",
         "z": [
          44224,
          235214,
          107481,
          3904,
          335047,
          48015,
          1067030,
          10101218,
          452273,
          8359,
          9106,
          11861161,
          6082444,
          835757,
          54569,
          4872829,
          28036,
          11922,
          22139,
          2051348,
          1329988,
          696614,
          39127,
          403666,
          5507,
          994037,
          71414,
          18860,
          1212147,
          37511921,
          108582,
          347723,
          62697,
          330696,
          15441,
          4819055,
          4457868,
          5401126,
          99373219,
          88434,
          125246,
          101009,
          25227,
          7345,
          6391876,
          9109,
          64474,
          1234701,
          1113662,
          45883,
          31472,
          696410,
          0,
          38437756,
          15690,
          16047,
          3435679,
          661103,
          272139,
          1077445,
          516023,
          10189,
          0,
          13980340,
          0,
          501193,
          1499712,
          69047,
          1923,
          38997490,
          34658,
          31765,
          49051,
          24974629,
          1863615,
          35326,
          172062,
          20550,
          38572,
          203235,
          12627,
          9614,
          17130,
          5673681,
          19693,
          11971,
          1250371,
          98041,
          52287,
          74443,
          0,
          472896,
          1317144,
          34456,
          2230800,
          6829399,
          38008,
          0,
          1745088,
          7627863,
          2465545,
          210374,
          4841558,
          0,
          157181,
          66391,
          1746997,
          33803572,
          1504370,
          344106,
          88953,
          139319,
          5085,
          6607,
          34571873,
          667290,
          219060,
          1239904,
          7930,
          507269,
          30282,
          21588,
          672798,
          36138,
          0,
          393542,
          977765,
          0,
          12324,
          1279115,
          17181,
          637520,
          68567,
          186694,
          7619458,
          16297,
          350924,
          33166,
          122796,
          642885,
          251280,
          1011489,
          14912,
          233843,
          63872,
          1403,
          230354,
          328167,
          89168,
          0,
          42027,
          172533,
          80163,
          9518,
          267188,
          16185,
          1074,
          8640008,
          1512647,
          1003450,
          5393,
          0,
          399449,
          0,
          0,
          274279,
          0,
          0,
          0,
          1580631,
          1044821,
          4,
          4526977,
          4140383,
          6372,
          46864,
          6670799,
          1252713,
          0,
          5664109,
          735759,
          703228,
          79387,
          514524,
          494595,
          3541619,
          24268728,
          133264,
          841469,
          63993,
          89485,
          3006155,
          2166,
          25954,
          7979,
          201920,
          25292,
          27334,
          3426,
          2583470,
          18823,
          6771,
          82501,
          1878002,
          1356582,
          2755181,
          75356,
          11051,
          51886,
          57423,
          6805,
          7702,
          39530,
          4799180,
          17786,
          80,
          0,
          23460,
          16976,
          191496,
          1153361,
          17004718,
          2943,
          0,
          43230,
          172154,
          5532777,
          1041346,
          103436829,
          175081,
          26,
          9674,
          552695,
          7557,
          25389,
          11624000,
          12019,
          3760,
          17057,
          11945,
          4072765,
          349842,
          266386
         ]
        }
       ],
       "layout": {
        "coloraxis": {
         "colorbar": {
          "title": {
           "text": "total_cases"
          }
         },
         "colorscale": [
          [
           0,
           "rgb(255,245,240)"
          ],
          [
           0.125,
           "rgb(254,224,210)"
          ],
          [
           0.25,
           "rgb(252,187,161)"
          ],
          [
           0.375,
           "rgb(252,146,114)"
          ],
          [
           0.5,
           "rgb(251,106,74)"
          ],
          [
           0.625,
           "rgb(239,59,44)"
          ],
          [
           0.75,
           "rgb(203,24,29)"
          ],
          [
           0.875,
           "rgb(165,15,21)"
          ],
          [
           1,
           "rgb(103,0,13)"
          ]
         ]
        },
        "geo": {
         "center": {},
         "domain": {
          "x": [
           0,
           1
          ],
          "y": [
           0,
           1
          ]
         }
        },
        "legend": {
         "tracegroupgap": 0
        },
        "template": {
         "data": {
          "bar": [
           {
            "error_x": {
             "color": "#2a3f5f"
            },
            "error_y": {
             "color": "#2a3f5f"
            },
            "marker": {
             "line": {
              "color": "#E5ECF6",
              "width": 0.5
             },
             "pattern": {
              "fillmode": "overlay",
              "size": 10,
              "solidity": 0.2
             }
            },
            "type": "bar"
           }
          ],
          "barpolar": [
           {
            "marker": {
             "line": {
              "color": "#E5ECF6",
              "width": 0.5
             },
             "pattern": {
              "fillmode": "overlay",
              "size": 10,
              "solidity": 0.2
             }
            },
            "type": "barpolar"
           }
          ],
          "carpet": [
           {
            "aaxis": {
             "endlinecolor": "#2a3f5f",
             "gridcolor": "white",
             "linecolor": "white",
             "minorgridcolor": "white",
             "startlinecolor": "#2a3f5f"
            },
            "baxis": {
             "endlinecolor": "#2a3f5f",
             "gridcolor": "white",
             "linecolor": "white",
             "minorgridcolor": "white",
             "startlinecolor": "#2a3f5f"
            },
            "type": "carpet"
           }
          ],
          "choropleth": [
           {
            "colorbar": {
             "outlinewidth": 0,
             "ticks": ""
            },
            "type": "choropleth"
           }
          ],
          "contour": [
           {
            "colorbar": {
             "outlinewidth": 0,
             "ticks": ""
            },
            "colorscale": [
             [
              0,
              "#0d0887"
             ],
             [
              0.1111111111111111,
              "#46039f"
             ],
             [
              0.2222222222222222,
              "#7201a8"
             ],
             [
              0.3333333333333333,
              "#9c179e"
             ],
             [
              0.4444444444444444,
              "#bd3786"
             ],
             [
              0.5555555555555556,
              "#d8576b"
             ],
             [
              0.6666666666666666,
              "#ed7953"
             ],
             [
              0.7777777777777778,
              "#fb9f3a"
             ],
             [
              0.8888888888888888,
              "#fdca26"
             ],
             [
              1,
              "#f0f921"
             ]
            ],
            "type": "contour"
           }
          ],
          "contourcarpet": [
           {
            "colorbar": {
             "outlinewidth": 0,
             "ticks": ""
            },
            "type": "contourcarpet"
           }
          ],
          "heatmap": [
           {
            "colorbar": {
             "outlinewidth": 0,
             "ticks": ""
            },
            "colorscale": [
             [
              0,
              "#0d0887"
             ],
             [
              0.1111111111111111,
              "#46039f"
             ],
             [
              0.2222222222222222,
              "#7201a8"
             ],
             [
              0.3333333333333333,
              "#9c179e"
             ],
             [
              0.4444444444444444,
              "#bd3786"
             ],
             [
              0.5555555555555556,
              "#d8576b"
             ],
             [
              0.6666666666666666,
              "#ed7953"
             ],
             [
              0.7777777777777778,
              "#fb9f3a"
             ],
             [
              0.8888888888888888,
              "#fdca26"
             ],
             [
              1,
              "#f0f921"
             ]
            ],
            "type": "heatmap"
           }
          ],
          "heatmapgl": [
           {
            "colorbar": {
             "outlinewidth": 0,
             "ticks": ""
            },
            "colorscale": [
             [
              0,
              "#0d0887"
             ],
             [
              0.1111111111111111,
              "#46039f"
             ],
             [
              0.2222222222222222,
              "#7201a8"
             ],
             [
              0.3333333333333333,
              "#9c179e"
             ],
             [
              0.4444444444444444,
              "#bd3786"
             ],
             [
              0.5555555555555556,
              "#d8576b"
             ],
             [
              0.6666666666666666,
              "#ed7953"
             ],
             [
              0.7777777777777778,
              "#fb9f3a"
             ],
             [
              0.8888888888888888,
              "#fdca26"
             ],
             [
              1,
              "#f0f921"
             ]
            ],
            "type": "heatmapgl"
           }
          ],
          "histogram": [
           {
            "marker": {
             "pattern": {
              "fillmode": "overlay",
              "size": 10,
              "solidity": 0.2
             }
            },
            "type": "histogram"
           }
          ],
          "histogram2d": [
           {
            "colorbar": {
             "outlinewidth": 0,
             "ticks": ""
            },
            "colorscale": [
             [
              0,
              "#0d0887"
             ],
             [
              0.1111111111111111,
              "#46039f"
             ],
             [
              0.2222222222222222,
              "#7201a8"
             ],
             [
              0.3333333333333333,
              "#9c179e"
             ],
             [
              0.4444444444444444,
              "#bd3786"
             ],
             [
              0.5555555555555556,
              "#d8576b"
             ],
             [
              0.6666666666666666,
              "#ed7953"
             ],
             [
              0.7777777777777778,
              "#fb9f3a"
             ],
             [
              0.8888888888888888,
              "#fdca26"
             ],
             [
              1,
              "#f0f921"
             ]
            ],
            "type": "histogram2d"
           }
          ],
          "histogram2dcontour": [
           {
            "colorbar": {
             "outlinewidth": 0,
             "ticks": ""
            },
            "colorscale": [
             [
              0,
              "#0d0887"
             ],
             [
              0.1111111111111111,
              "#46039f"
             ],
             [
              0.2222222222222222,
              "#7201a8"
             ],
             [
              0.3333333333333333,
              "#9c179e"
             ],
             [
              0.4444444444444444,
              "#bd3786"
             ],
             [
              0.5555555555555556,
              "#d8576b"
             ],
             [
              0.6666666666666666,
              "#ed7953"
             ],
             [
              0.7777777777777778,
              "#fb9f3a"
             ],
             [
              0.8888888888888888,
              "#fdca26"
             ],
             [
              1,
              "#f0f921"
             ]
            ],
            "type": "histogram2dcontour"
           }
          ],
          "mesh3d": [
           {
            "colorbar": {
             "outlinewidth": 0,
             "ticks": ""
            },
            "type": "mesh3d"
           }
          ],
          "parcoords": [
           {
            "line": {
             "colorbar": {
              "outlinewidth": 0,
              "ticks": ""
             }
            },
            "type": "parcoords"
           }
          ],
          "pie": [
           {
            "automargin": true,
            "type": "pie"
           }
          ],
          "scatter": [
           {
            "fillpattern": {
             "fillmode": "overlay",
             "size": 10,
             "solidity": 0.2
            },
            "type": "scatter"
           }
          ],
          "scatter3d": [
           {
            "line": {
             "colorbar": {
              "outlinewidth": 0,
              "ticks": ""
             }
            },
            "marker": {
             "colorbar": {
              "outlinewidth": 0,
              "ticks": ""
             }
            },
            "type": "scatter3d"
           }
          ],
          "scattercarpet": [
           {
            "marker": {
             "colorbar": {
              "outlinewidth": 0,
              "ticks": ""
             }
            },
            "type": "scattercarpet"
           }
          ],
          "scattergeo": [
           {
            "marker": {
             "colorbar": {
              "outlinewidth": 0,
              "ticks": ""
             }
            },
            "type": "scattergeo"
           }
          ],
          "scattergl": [
           {
            "marker": {
             "colorbar": {
              "outlinewidth": 0,
              "ticks": ""
             }
            },
            "type": "scattergl"
           }
          ],
          "scattermapbox": [
           {
            "marker": {
             "colorbar": {
              "outlinewidth": 0,
              "ticks": ""
             }
            },
            "type": "scattermapbox"
           }
          ],
          "scatterpolar": [
           {
            "marker": {
             "colorbar": {
              "outlinewidth": 0,
              "ticks": ""
             }
            },
            "type": "scatterpolar"
           }
          ],
          "scatterpolargl": [
           {
            "marker": {
             "colorbar": {
              "outlinewidth": 0,
              "ticks": ""
             }
            },
            "type": "scatterpolargl"
           }
          ],
          "scatterternary": [
           {
            "marker": {
             "colorbar": {
              "outlinewidth": 0,
              "ticks": ""
             }
            },
            "type": "scatterternary"
           }
          ],
          "surface": [
           {
            "colorbar": {
             "outlinewidth": 0,
             "ticks": ""
            },
            "colorscale": [
             [
              0,
              "#0d0887"
             ],
             [
              0.1111111111111111,
              "#46039f"
             ],
             [
              0.2222222222222222,
              "#7201a8"
             ],
             [
              0.3333333333333333,
              "#9c179e"
             ],
             [
              0.4444444444444444,
              "#bd3786"
             ],
             [
              0.5555555555555556,
              "#d8576b"
             ],
             [
              0.6666666666666666,
              "#ed7953"
             ],
             [
              0.7777777777777778,
              "#fb9f3a"
             ],
             [
              0.8888888888888888,
              "#fdca26"
             ],
             [
              1,
              "#f0f921"
             ]
            ],
            "type": "surface"
           }
          ],
          "table": [
           {
            "cells": {
             "fill": {
              "color": "#EBF0F8"
             },
             "line": {
              "color": "white"
             }
            },
            "header": {
             "fill": {
              "color": "#C8D4E3"
             },
             "line": {
              "color": "white"
             }
            },
            "type": "table"
           }
          ]
         },
         "layout": {
          "annotationdefaults": {
           "arrowcolor": "#2a3f5f",
           "arrowhead": 0,
           "arrowwidth": 1
          },
          "autotypenumbers": "strict",
          "coloraxis": {
           "colorbar": {
            "outlinewidth": 0,
            "ticks": ""
           }
          },
          "colorscale": {
           "diverging": [
            [
             0,
             "#8e0152"
            ],
            [
             0.1,
             "#c51b7d"
            ],
            [
             0.2,
             "#de77ae"
            ],
            [
             0.3,
             "#f1b6da"
            ],
            [
             0.4,
             "#fde0ef"
            ],
            [
             0.5,
             "#f7f7f7"
            ],
            [
             0.6,
             "#e6f5d0"
            ],
            [
             0.7,
             "#b8e186"
            ],
            [
             0.8,
             "#7fbc41"
            ],
            [
             0.9,
             "#4d9221"
            ],
            [
             1,
             "#276419"
            ]
           ],
           "sequential": [
            [
             0,
             "#0d0887"
            ],
            [
             0.1111111111111111,
             "#46039f"
            ],
            [
             0.2222222222222222,
             "#7201a8"
            ],
            [
             0.3333333333333333,
             "#9c179e"
            ],
            [
             0.4444444444444444,
             "#bd3786"
            ],
            [
             0.5555555555555556,
             "#d8576b"
            ],
            [
             0.6666666666666666,
             "#ed7953"
            ],
            [
             0.7777777777777778,
             "#fb9f3a"
            ],
            [
             0.8888888888888888,
             "#fdca26"
            ],
            [
             1,
             "#f0f921"
            ]
           ],
           "sequentialminus": [
            [
             0,
             "#0d0887"
            ],
            [
             0.1111111111111111,
             "#46039f"
            ],
            [
             0.2222222222222222,
             "#7201a8"
            ],
            [
             0.3333333333333333,
             "#9c179e"
            ],
            [
             0.4444444444444444,
             "#bd3786"
            ],
            [
             0.5555555555555556,
             "#d8576b"
            ],
            [
             0.6666666666666666,
             "#ed7953"
            ],
            [
             0.7777777777777778,
             "#fb9f3a"
            ],
            [
             0.8888888888888888,
             "#fdca26"
            ],
            [
             1,
             "#f0f921"
            ]
           ]
          },
          "colorway": [
           "#636efa",
           "#EF553B",
           "#00cc96",
           "#ab63fa",
           "#FFA15A",
           "#19d3f3",
           "#FF6692",
           "#B6E880",
           "#FF97FF",
           "#FECB52"
          ],
          "font": {
           "color": "#2a3f5f"
          },
          "geo": {
           "bgcolor": "white",
           "lakecolor": "white",
           "landcolor": "#E5ECF6",
           "showlakes": true,
           "showland": true,
           "subunitcolor": "white"
          },
          "hoverlabel": {
           "align": "left"
          },
          "hovermode": "closest",
          "mapbox": {
           "style": "light"
          },
          "paper_bgcolor": "white",
          "plot_bgcolor": "#E5ECF6",
          "polar": {
           "angularaxis": {
            "gridcolor": "white",
            "linecolor": "white",
            "ticks": ""
           },
           "bgcolor": "#E5ECF6",
           "radialaxis": {
            "gridcolor": "white",
            "linecolor": "white",
            "ticks": ""
           }
          },
          "scene": {
           "xaxis": {
            "backgroundcolor": "#E5ECF6",
            "gridcolor": "white",
            "gridwidth": 2,
            "linecolor": "white",
            "showbackground": true,
            "ticks": "",
            "zerolinecolor": "white"
           },
           "yaxis": {
            "backgroundcolor": "#E5ECF6",
            "gridcolor": "white",
            "gridwidth": 2,
            "linecolor": "white",
            "showbackground": true,
            "ticks": "",
            "zerolinecolor": "white"
           },
           "zaxis": {
            "backgroundcolor": "#E5ECF6",
            "gridcolor": "white",
            "gridwidth": 2,
            "linecolor": "white",
            "showbackground": true,
            "ticks": "",
            "zerolinecolor": "white"
           }
          },
          "shapedefaults": {
           "line": {
            "color": "#2a3f5f"
           }
          },
          "ternary": {
           "aaxis": {
            "gridcolor": "white",
            "linecolor": "white",
            "ticks": ""
           },
           "baxis": {
            "gridcolor": "white",
            "linecolor": "white",
            "ticks": ""
           },
           "bgcolor": "#E5ECF6",
           "caxis": {
            "gridcolor": "white",
            "linecolor": "white",
            "ticks": ""
           }
          },
          "title": {
           "x": 0.05
          },
          "xaxis": {
           "automargin": true,
           "gridcolor": "white",
           "linecolor": "white",
           "ticks": "",
           "title": {
            "standoff": 15
           },
           "zerolinecolor": "white",
           "zerolinewidth": 2
          },
          "yaxis": {
           "automargin": true,
           "gridcolor": "white",
           "linecolor": "white",
           "ticks": "",
           "title": {
            "standoff": 15
           },
           "zerolinecolor": "white",
           "zerolinewidth": 2
          }
         }
        },
        "title": {
         "text": "COVID-19 Total Cases by Country"
        }
       }
      }
     },
     "metadata": {},
     "output_type": "display_data"
    }
   ],
   "source": [
    "# Prepare the data for the latest date\n",
    "latest_data = df_selected.sort_values('date').groupby('iso_code').last().reset_index()\n",
    "\n",
    "# Create a choropleth map for total cases\n",
    "fig = px.choropleth(\n",
    "    latest_data,\n",
    "    locations='iso_code',  # Column with ISO country codes\n",
    "    color='total_cases',   # Column to visualize\n",
    "    hover_name='location', # Column to display on hover\n",
    "    title='COVID-19 Total Cases by Country',\n",
    "    color_continuous_scale='Reds'  # Color scale\n",
    ")\n",
    "\n",
    "# Show the map\n",
    "fig.show();"
   ]
  },
  {
   "cell_type": "markdown",
   "metadata": {},
   "source": [
    "## Dashboard with Major insights"
   ]
  },
  {
   "cell_type": "code",
   "execution_count": null,
   "metadata": {},
   "outputs": [
    {
     "data": {
      "application/vnd.jupyter.widget-view+json": {
       "model_id": "f7fd5092819b4259a6bdf1b84fed8e61",
       "version_major": 2,
       "version_minor": 0
      },
      "text/plain": [
       "HBox(children=(VBox(children=(Label(value='Select Countries (Search Available):'), SelectMultiple(description=…"
      ]
     },
     "metadata": {},
     "output_type": "display_data"
    },
    {
     "data": {
      "application/vnd.jupyter.widget-view+json": {
       "model_id": "7d7238a8795043c9b68a780e83c18e00",
       "version_major": 2,
       "version_minor": 0
      },
      "text/plain": [
       "Output(layout=Layout(border='1px solid #0078D4'))"
      ]
     },
     "metadata": {},
     "output_type": "display_data"
    }
   ],
   "source": [
    "# Ensure 'vaccination_status' column exists\n",
    "if 'vaccination_status' not in data.columns:\n",
    "    data['vaccination_status'] = data['total_vaccinations'].apply(lambda x: 1 if x > 0 else 0)\n",
    "\n",
    "# Import required libraries\n",
    "from ipywidgets import widgets\n",
    "from IPython.display import display, clear_output\n",
    "import matplotlib.pyplot as plt\n",
    "\n",
    "# Helper to create multi-select dropdowns with search\n",
    "def create_multi_dropdown(options_list, description, default=None):\n",
    "    return widgets.SelectMultiple(\n",
    "        options=options_list,\n",
    "        value=default if default else (),\n",
    "        description=description,\n",
    "        layout={'width': '250px', 'height': '150px'},\n",
    "        style={'description_width': 'initial'}\n",
    "    )\n",
    "\n",
    "# Create widgets for the interactive dashboard\n",
    "country_dropdown = widgets.SelectMultiple(\n",
    "    options=sorted(data['location'].unique()),\n",
    "    value=('Kenya',),\n",
    "    description='Countries:',\n",
    "    layout={'width': '250px', 'height': '150px'},\n",
    "    style={'description_width': 'initial', 'background_color': '#F2F2F2', 'border': '1px solid #0078D4'}\n",
    ")\n",
    "\n",
    "year_multiselect = widgets.SelectMultiple(\n",
    "    options=sorted(data['date'].dt.year.unique()),\n",
    "    description='Years:',\n",
    "    value=(),\n",
    "    layout={'width': '100px', 'height': '150px'},\n",
    "    style={'description_width': 'initial', 'background_color': '#F2F2F2', 'border': '1px solid #0078D4'}\n",
    ")\n",
    "\n",
    "month_options = ['January', 'February', 'March', 'April', 'May', 'June',\n",
    "                 'July', 'August', 'September', 'October', 'November', 'December']\n",
    "month_select = widgets.SelectMultiple(\n",
    "    options=month_options,\n",
    "    description='Months:',\n",
    "    value=('November', 'December'),\n",
    "    layout={'width': '150px', 'height': '150px'},\n",
    "    style={'description_width': 'initial', 'background_color': '#F2F2F2', 'border': '1px solid #0078D4'}\n",
    ")\n",
    "\n",
    "column_multiselect = create_multi_dropdown(\n",
    "    ['new_cases', 'total_cases', 'new_deaths', 'total_deaths', 'total_vaccinations', 'vaccination_status'],\n",
    "    description='Columns:',\n",
    "    default=('new_cases', 'total_cases', 'new_deaths', 'total_deaths')\n",
    ")\n",
    "\n",
    "view_type_dropdown = widgets.Dropdown(\n",
    "    options=['Table', 'Chart'],\n",
    "    description='View:',\n",
    "    value='Table',\n",
    "    layout={'width': '100px'},\n",
    "    style={'description_width': 'initial', 'background_color': '#F2F2F2', 'border': '1px solid #0078D4'}\n",
    ")\n",
    "\n",
    "# Select All / Clear buttons\n",
    "select_all_countries = widgets.Button(description='Select All Countries', button_style='info', layout={'width': '120px'})\n",
    "clear_countries = widgets.Button(description='Clear Countries', button_style='danger', layout={'width': '120px'})\n",
    "\n",
    "select_all_years = widgets.Button(description='Select All Years', button_style='info', layout={'width': '120px'})\n",
    "clear_years = widgets.Button(description='Clear Years', button_style='danger', layout={'width': '120px'})\n",
    "\n",
    "select_all_columns = widgets.Button(description='Select All Columns', button_style='info', layout={'width': '120px'})\n",
    "clear_columns = widgets.Button(description='Clear Columns', button_style='danger', layout={'width': '120px'})\n",
    "\n",
    "# Output area\n",
    "output = widgets.Output(layout={'border': '1px solid #0078D4', 'background_color': '#FFFFFF'})\n",
    "\n",
    "# Functions for 'Select All' and 'Clear' actions\n",
    "def select_all_countries_clicked(b):\n",
    "    country_dropdown.value = tuple(country_dropdown.options)\n",
    "\n",
    "def clear_countries_clicked(b):\n",
    "    country_dropdown.value = ()\n",
    "\n",
    "def select_all_years_clicked(b):\n",
    "    year_multiselect.value = tuple(year_multiselect.options)\n",
    "\n",
    "def clear_years_clicked(b):\n",
    "    year_multiselect.value = ()\n",
    "\n",
    "def select_all_columns_clicked(b):\n",
    "    column_multiselect.value = tuple(column_multiselect.options)\n",
    "\n",
    "def clear_columns_clicked(b):\n",
    "    column_multiselect.value = ()\n",
    "\n",
    "# Link buttons to functions\n",
    "select_all_countries.on_click(select_all_countries_clicked)\n",
    "clear_countries.on_click(clear_countries_clicked)\n",
    "\n",
    "select_all_years.on_click(select_all_years_clicked)\n",
    "clear_years.on_click(clear_years_clicked)\n",
    "\n",
    "select_all_columns.on_click(select_all_columns_clicked)\n",
    "clear_columns.on_click(clear_columns_clicked)\n",
    "\n",
    "# Function to get selected months\n",
    "def get_selected_months():\n",
    "    month_mapping = {\n",
    "        'January': 1, 'February': 2, 'March': 3, 'April': 4,\n",
    "        'May': 5, 'June': 6, 'July': 7, 'August': 8,\n",
    "        'September': 9, 'October': 10, 'November': 11, 'December': 12\n",
    "    }\n",
    "    return [month_mapping[m] for m in month_select.value]\n",
    "\n",
    "# Update dashboard with enhanced styling\n",
    "def update_dashboard(change=None):\n",
    "    with output:\n",
    "        clear_output()\n",
    "        selected_countries = country_dropdown.value\n",
    "        selected_years = year_multiselect.value\n",
    "        selected_months = get_selected_months()\n",
    "        selected_columns = column_multiselect.value\n",
    "        \n",
    "        if not selected_countries or not selected_columns or not selected_months:\n",
    "            print(\"Please select countries, columns, and months.\")\n",
    "            return\n",
    "        \n",
    "        filtered_data = data[\n",
    "            (data['location'].isin(selected_countries)) &\n",
    "            ((data['date'].dt.year.isin(selected_years)) if selected_years else True) &\n",
    "            (data['date'].dt.month.isin(selected_months))\n",
    "        ]\n",
    "        \n",
    "        if filtered_data.empty:\n",
    "            print(\"No data available for the selected filters.\")\n",
    "            return\n",
    "        \n",
    "        aggregated_data = filtered_data.groupby('location')[list(selected_columns)].sum()\n",
    "        \n",
    "        if view_type_dropdown.value == 'Table':\n",
    "            display(aggregated_data.style.set_properties(**{'background-color': '#F2F2F2', 'border': '1px solid #0078D4', 'padding': '5px'}).set_table_styles([{\n",
    "                'selector': 'th',\n",
    "                'props': [('background-color', '#0078D4'), ('color', 'white'), ('text-align', 'center')]\n",
    "            }]))\n",
    "        else:\n",
    "            aggregated_data.plot(kind='bar', figsize=(12, 6), color='#0078D4')\n",
    "            title_years = \", \".join(map(str, selected_years)) if selected_years else \"All Years\"\n",
    "            plt.title(f\"COVID-19 Insights for Selected Countries ({title_years})\", color='#333333')\n",
    "            plt.xlabel('Country', color='#333333')\n",
    "            plt.ylabel('Values', color='#333333')\n",
    "            plt.grid(True, linestyle='--', alpha=0.7)\n",
    "            plt.legend(title='Metrics', facecolor='#F2F2F2', edgecolor='#0078D4')\n",
    "            plt.xticks(rotation=45, color='#333333')\n",
    "            plt.yticks(color='#333333')\n",
    "            plt.gcf().patch.set_facecolor('#FFFFFF')\n",
    "            # plt.savefig('dashboard_chart.png', bbox_inches='tight') # Save the plot as a PNG file\n",
    "\n",
    "# Attach event handlers\n",
    "country_dropdown.observe(update_dashboard, names='value')\n",
    "year_multiselect.observe(update_dashboard, names='value')\n",
    "month_select.observe(update_dashboard, names='value')\n",
    "column_multiselect.observe(update_dashboard, names='value')\n",
    "view_type_dropdown.observe(update_dashboard, names='value')\n",
    "\n",
    "# Layout with reduced spacing\n",
    "controls_left = widgets.VBox([\n",
    "    widgets.Label(\"Select Countries (Search Available):\", style={'color': '#0078D4'}),\n",
    "    country_dropdown,\n",
    "    widgets.HBox([select_all_countries, clear_countries], layout={'margin': '5px 0'})\n",
    "], layout={'padding': '5px', 'background_color': '#FFFFFF', 'border': '1px solid #0078D4'})\n",
    "\n",
    "controls_middle = widgets.VBox([\n",
    "    widgets.Label(\"Select Years and Months:\", style={'color': '#0078D4'}),\n",
    "    year_multiselect,\n",
    "    widgets.HBox([select_all_years, clear_years], layout={'margin': '5px 0'}),\n",
    "    month_select\n",
    "], layout={'padding': '5px', 'background_color': '#FFFFFF', 'border': '1px solid #0078D4'})\n",
    "\n",
    "controls_right = widgets.VBox([\n",
    "    widgets.Label(\"Select Columns and View Type:\", style={'color': '#0078D4'}),\n",
    "    column_multiselect,\n",
    "    widgets.HBox([select_all_columns, clear_columns], layout={'margin': '5px 0'}),\n",
    "    view_type_dropdown\n",
    "], layout={'padding': '5px', 'background_color': '#FFFFFF', 'border': '1px solid #0078D4'})\n",
    "\n",
    "dashboard = widgets.HBox([\n",
    "    controls_left,\n",
    "    controls_middle,\n",
    "    controls_right\n",
    "], layout={'padding': '10px', 'background_color': '#FFFFFF', 'border': '1px solid #0078D4'})\n",
    "\n",
    "# Show dashboard\n",
    "display(dashboard, output)\n",
    "\n",
    "# Trigger initial display\n",
    "update_dashboard()"
   ]
  },
  {
   "cell_type": "markdown",
   "metadata": {},
   "source": [
    "## Summary of Key Insights from COVID-19 Global Data Tracker\n",
    "\n",
    "This analysis provides a comprehensive overview of the COVID-19 pandemic based on global data:\n",
    "\n",
    "* **Vaccination Coverage**: The doughnut chart reveals that 82.6% of the population remains unvaccinated, with only 17.4% vaccinated, indicating a low turnout for COVID-19 vaccinations.\n",
    "* **Cumulative Vaccinations**: The line chart shows India leading with over 2 billion vaccinations by 2024, while Kenya lags with around 0.1 billion, highlighting significant disparities in rollout scale and pace.\n",
    "* **Daily New Cases**: The bar chart indicates India and Brazil experienced the most intense waves, peaking above 2.5 million and 2 million cases per day in 2021, respectively, while Kenya had a lower peak at 0.5 million.\n",
    "* **Correlation Insights**: The heatmap demonstrates strong positive correlations (1.00) between total cases and total deaths, and new cases and new deaths, while total vaccinations show weak correlations (0.04 to 0.33) with case and death metrics.\n",
    "* **Total Cases Distribution**: The choropleth map visualizes total cases by country, with varying intensities suggesting diverse impacts across regions.\n",
    "* **Dashboard Highlights**: The interactive dashboard allows filtering by country, year, and month, revealing aggregated data such as Kenya’s low new cases and total vaccinations compared to higher values in countries like India and the USA.\n",
    "\n",
    "These insights underscore the uneven global impact of COVID-19, driven by differences in vaccination efforts, case severity, and healthcare responses."
   ]
  }
 ],
 "metadata": {
  "kernelspec": {
   "display_name": "base",
   "language": "python",
   "name": "python3"
  },
  "language_info": {
   "codemirror_mode": {
    "name": "ipython",
    "version": 3
   },
   "file_extension": ".py",
   "mimetype": "text/x-python",
   "name": "python",
   "nbconvert_exporter": "python",
   "pygments_lexer": "ipython3",
   "version": "3.12.7"
  }
 },
 "nbformat": 4,
 "nbformat_minor": 2
}
