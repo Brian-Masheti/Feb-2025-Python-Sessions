{
 "cells": [
  {
   "cell_type": "markdown",
   "metadata": {},
   "source": [
    "# Types of Python Operators\n",
    "\n",
    "The different types of python operators in python include:\n",
    "\n",
    "* Arithmetic operators\n",
    "* Assignment operators\n",
    "* Comparison operators\n",
    "* Logical operators\n",
    "* Bitwise operators\n",
    "* Special operators\n"
   ]
  },
  {
   "cell_type": "markdown",
   "metadata": {},
   "source": [
    "## Arithmetic Operators"
   ]
  },
  {
   "cell_type": "code",
   "execution_count": 1,
   "metadata": {},
   "outputs": [
    {
     "data": {
      "text/plain": [
       "5"
      ]
     },
     "execution_count": 1,
     "metadata": {},
     "output_type": "execute_result"
    }
   ],
   "source": [
    "# Arithmetic\n",
    "sub = 10 -5\n",
    "sub"
   ]
  },
  {
   "cell_type": "markdown",
   "metadata": {},
   "source": [
    "# Assignment operators\n",
    "- x = 5 \n",
    "- x += 3 # same as x = x + 3\n",
    "- x-= 3 # same as x = x - 3\n",
    "- x *= 3 # same as x = x * 3\n",
    "- x /= 3 # same as x = x / 3\n",
    "- x %= 3 # same as x = x % 3\n",
    "- x //= 3 # same as x = x // 3\n",
    "- x **= 3 # same as x = x ** 3\n",
    "- x &= 3 # same as x = x & 3\n",
    "- x |= 3 # same as x = x | 3\n",
    "- x ^= 3 # same as x = x ^ 3\n",
    "- x >>= 3 # same as x = x >> 3\n",
    "- x <<= 3 # same as x = x << 3\n",
    "- x:= 3 # same as x = 3"
   ]
  },
  {
   "cell_type": "code",
   "execution_count": 6,
   "metadata": {
    "vscode": {
     "languageId": "ruby"
    }
   },
   "outputs": [
    {
     "name": "stdout",
     "output_type": "stream",
     "text": [
      "11\n",
      "9\n",
      "18\n",
      "6.0\n",
      "2.0\n",
      "1.0\n",
      "1.0\n",
      "0\n",
      "3\n",
      "2\n",
      "1\n",
      "4\n"
     ]
    }
   ],
   "source": [
    "# Initial value\n",
    "x = 8\n",
    "\n",
    "# Add and assign\n",
    "x += 3  # x = x + 3\n",
    "print(x)  # Output: 11\n",
    "\n",
    "# Subtract and assign\n",
    "x -= 2  # x = x - 2\n",
    "print(x)  # Output: 9\n",
    "\n",
    "# Multiply and assign\n",
    "x *= 2  # x = x * 2\n",
    "print(x)  # Output: 18\n",
    "\n",
    "# Divide and assign\n",
    "x /= 3  # x = x / 3\n",
    "print(x)  # Output: 6.0\n",
    "\n",
    "# Modulus and assign\n",
    "x %= 4  # x = x % 4\n",
    "print(x)  # Output: 2.0\n",
    "\n",
    "# Floor division and assign\n",
    "x //= 2  # x = x // 2\n",
    "print(x)  # Output: 1.0\n",
    "\n",
    "# Exponent and assign\n",
    "x **= 3  # x = x ** 3\n",
    "print(x)  # Output: 1.0\n",
    "\n",
    "# Convert x to integer for bitwise operations\n",
    "x = int(x)\n",
    "\n",
    "# Bitwise AND and assign\n",
    "x &= 2  # x = x & 2\n",
    "print(x)  # Output: 0\n",
    "\n",
    "# Bitwise OR and assign\n",
    "x |= 3  # x = x | 3\n",
    "print(x)  # Output: 3\n",
    "\n",
    "# Bitwise XOR and assign\n",
    "x ^= 1  # x = x ^ 1\n",
    "print(x)  # Output: 2\n",
    "\n",
    "# Bitwise right shift and assign\n",
    "x >>= 1  # x = x >> 1\n",
    "print(x)  # Output: 1\n",
    "\n",
    "# Bitwise left shift and assign\n",
    "x <<= 2  # x = x << 2\n",
    "print(x)  # Output: 4"
   ]
  },
  {
   "cell_type": "markdown",
   "metadata": {},
   "source": [
    "## Comparison operators"
   ]
  },
  {
   "cell_type": "code",
   "execution_count": 1,
   "metadata": {},
   "outputs": [
    {
     "name": "stdout",
     "output_type": "stream",
     "text": [
      "False\n",
      "True\n",
      "False\n",
      "True\n",
      "False\n",
      "True\n"
     ]
    }
   ],
   "source": [
    "# Comparison operators\n",
    "a = 10\n",
    "b = 20\n",
    "\n",
    "# Equal to\n",
    "print(a == b)  # False ❌ \n",
    "\n",
    "# Not equal to\n",
    "print(a != b)  # True ✅\n",
    "\n",
    "# Greater than\n",
    "print(a > b)  # False ❌ \n",
    "\n",
    "# Less than\n",
    "print(a < b)  # True ✅\n",
    "\n",
    "# Greater than or equal to\n",
    "print(a >= b)  # False ❌ \n",
    "\n",
    "# Less than or equal to\n",
    "print(a <= b)  # True ✅"
   ]
  },
  {
   "cell_type": "markdown",
   "metadata": {},
   "source": [
    "## Logical Operators\n",
    "\n",
    "- AND : Returns True if both statements are true.\n",
    "- OR : Returns True if one of the statements i true.\n",
    "- NOT : Reverse the result, returns false if the result is true."
   ]
  },
  {
   "cell_type": "code",
   "execution_count": 9,
   "metadata": {},
   "outputs": [],
   "source": [
    "a = 10\n",
    "b = 20"
   ]
  },
  {
   "cell_type": "code",
   "execution_count": null,
   "metadata": {},
   "outputs": [
    {
     "name": "stdout",
     "output_type": "stream",
     "text": [
      "True\n",
      "True\n",
      "False\n"
     ]
    }
   ],
   "source": [
    "# Logical AND\n",
    "print(a > 5 and b > 15)  # True ✅\n",
    "\n",
    "# Logical OR\n",
    "print(a > 15 or b > 15)  # True ✅\n",
    "\n",
    "# Logical NOT\n",
    "print(not(a > 5))  # False ❌ "
   ]
  },
  {
   "cell_type": "code",
   "execution_count": null,
   "metadata": {},
   "outputs": [
    {
     "name": "stdout",
     "output_type": "stream",
     "text": [
      "True\n",
      "False\n",
      "True\n",
      "False\n",
      "False\n",
      "False\n"
     ]
    }
   ],
   "source": [
    "# Logical AND with different conditions\n",
    "print(a < 15 and b > 10)  # True ✅\n",
    "print(a > 15 and b > 10)  # False ❌ \n",
    "\n",
    "# Logical OR with different conditions\n",
    "print(a < 15 or b < 10)  # True ✅\n",
    "print(a > 15 or b < 10)  # False ❌ \n",
    "\n",
    "# Logical NOT with different conditions\n",
    "print(not(a < 15))  # False ✅\n",
    "print(not(b > 10))  # False ❌ "
   ]
  },
  {
   "cell_type": "code",
   "execution_count": null,
   "metadata": {},
   "outputs": [],
   "source": []
  }
 ],
 "metadata": {
  "kernelspec": {
   "display_name": "base",
   "language": "python",
   "name": "python3"
  },
  "language_info": {
   "codemirror_mode": {
    "name": "ipython",
    "version": 3
   },
   "file_extension": ".py",
   "mimetype": "text/x-python",
   "name": "python",
   "nbconvert_exporter": "python",
   "pygments_lexer": "ipython3",
   "version": "3.12.7"
  }
 },
 "nbformat": 4,
 "nbformat_minor": 2
}
